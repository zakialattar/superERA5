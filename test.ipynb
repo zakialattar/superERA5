{
 "cells": [
  {
   "cell_type": "code",
   "execution_count": 1,
   "id": "c0dae7d5",
   "metadata": {},
   "outputs": [
    {
     "name": "stderr",
     "output_type": "stream",
     "text": [
      "2022-11-14 22:56:23.444976: I tensorflow/core/platform/cpu_feature_guard.cc:193] This TensorFlow binary is optimized with oneAPI Deep Neural Network Library (oneDNN) to use the following CPU instructions in performance-critical operations:  SSE4.1 SSE4.2\n",
      "To enable them in other operations, rebuild TensorFlow with the appropriate compiler flags.\n"
     ]
    }
   ],
   "source": [
    "import pandas as pd\n",
    "import numpy as np\n",
    "from numpy import genfromtxt\n",
    "import matplotlib.pyplot as plt\n",
    "from utils import * \n",
    "import xarray\n",
    "\n",
    "import tensorflow as tf\n",
    "from tensorflow import keras\n",
    "from tensorflow.keras.models import Model, load_model\n",
    "from tensorflow.keras.layers import *\n",
    "from tensorflow.keras import Sequential"
   ]
  },
  {
   "cell_type": "code",
   "execution_count": 2,
   "id": "51aa2723",
   "metadata": {
    "scrolled": false
   },
   "outputs": [],
   "source": [
    "cwd = os.getcwd()\n",
    "train_path = \"data/train/\"\n",
    "test_path = \"data/test/\"\n",
    "\n",
    "# Training set\n",
    "train_files    = [\"mantua\"]\n",
    "X_train_xr, _  = prepare_predictor(train_files,train_path)\n",
    "y_train_xr, _  = prepare_predictand(train_files,train_path)\n",
    "\n",
    "# Test set\n",
    "X_test_xr, _ = prepare_predictor('water', data_path=test_path,time_reindex=False)\n",
    "y_test_xr, _ = prepare_predictand('water',data_path=test_path,time_reindex=False)"
   ]
  },
  {
   "cell_type": "code",
   "execution_count": 3,
   "id": "960a5037",
   "metadata": {},
   "outputs": [
    {
     "data": {
      "text/html": [
       "<div><svg style=\"position: absolute; width: 0; height: 0; overflow: hidden\">\n",
       "<defs>\n",
       "<symbol id=\"icon-database\" viewBox=\"0 0 32 32\">\n",
       "<path d=\"M16 0c-8.837 0-16 2.239-16 5v4c0 2.761 7.163 5 16 5s16-2.239 16-5v-4c0-2.761-7.163-5-16-5z\"></path>\n",
       "<path d=\"M16 17c-8.837 0-16-2.239-16-5v6c0 2.761 7.163 5 16 5s16-2.239 16-5v-6c0 2.761-7.163 5-16 5z\"></path>\n",
       "<path d=\"M16 26c-8.837 0-16-2.239-16-5v6c0 2.761 7.163 5 16 5s16-2.239 16-5v-6c0 2.761-7.163 5-16 5z\"></path>\n",
       "</symbol>\n",
       "<symbol id=\"icon-file-text2\" viewBox=\"0 0 32 32\">\n",
       "<path d=\"M28.681 7.159c-0.694-0.947-1.662-2.053-2.724-3.116s-2.169-2.030-3.116-2.724c-1.612-1.182-2.393-1.319-2.841-1.319h-15.5c-1.378 0-2.5 1.121-2.5 2.5v27c0 1.378 1.122 2.5 2.5 2.5h23c1.378 0 2.5-1.122 2.5-2.5v-19.5c0-0.448-0.137-1.23-1.319-2.841zM24.543 5.457c0.959 0.959 1.712 1.825 2.268 2.543h-4.811v-4.811c0.718 0.556 1.584 1.309 2.543 2.268zM28 29.5c0 0.271-0.229 0.5-0.5 0.5h-23c-0.271 0-0.5-0.229-0.5-0.5v-27c0-0.271 0.229-0.5 0.5-0.5 0 0 15.499-0 15.5 0v7c0 0.552 0.448 1 1 1h7v19.5z\"></path>\n",
       "<path d=\"M23 26h-14c-0.552 0-1-0.448-1-1s0.448-1 1-1h14c0.552 0 1 0.448 1 1s-0.448 1-1 1z\"></path>\n",
       "<path d=\"M23 22h-14c-0.552 0-1-0.448-1-1s0.448-1 1-1h14c0.552 0 1 0.448 1 1s-0.448 1-1 1z\"></path>\n",
       "<path d=\"M23 18h-14c-0.552 0-1-0.448-1-1s0.448-1 1-1h14c0.552 0 1 0.448 1 1s-0.448 1-1 1z\"></path>\n",
       "</symbol>\n",
       "</defs>\n",
       "</svg>\n",
       "<style>/* CSS stylesheet for displaying xarray objects in jupyterlab.\n",
       " *\n",
       " */\n",
       "\n",
       ":root {\n",
       "  --xr-font-color0: var(--jp-content-font-color0, rgba(0, 0, 0, 1));\n",
       "  --xr-font-color2: var(--jp-content-font-color2, rgba(0, 0, 0, 0.54));\n",
       "  --xr-font-color3: var(--jp-content-font-color3, rgba(0, 0, 0, 0.38));\n",
       "  --xr-border-color: var(--jp-border-color2, #e0e0e0);\n",
       "  --xr-disabled-color: var(--jp-layout-color3, #bdbdbd);\n",
       "  --xr-background-color: var(--jp-layout-color0, white);\n",
       "  --xr-background-color-row-even: var(--jp-layout-color1, white);\n",
       "  --xr-background-color-row-odd: var(--jp-layout-color2, #eeeeee);\n",
       "}\n",
       "\n",
       "html[theme=dark],\n",
       "body[data-theme=dark],\n",
       "body.vscode-dark {\n",
       "  --xr-font-color0: rgba(255, 255, 255, 1);\n",
       "  --xr-font-color2: rgba(255, 255, 255, 0.54);\n",
       "  --xr-font-color3: rgba(255, 255, 255, 0.38);\n",
       "  --xr-border-color: #1F1F1F;\n",
       "  --xr-disabled-color: #515151;\n",
       "  --xr-background-color: #111111;\n",
       "  --xr-background-color-row-even: #111111;\n",
       "  --xr-background-color-row-odd: #313131;\n",
       "}\n",
       "\n",
       ".xr-wrap {\n",
       "  display: block !important;\n",
       "  min-width: 300px;\n",
       "  max-width: 700px;\n",
       "}\n",
       "\n",
       ".xr-text-repr-fallback {\n",
       "  /* fallback to plain text repr when CSS is not injected (untrusted notebook) */\n",
       "  display: none;\n",
       "}\n",
       "\n",
       ".xr-header {\n",
       "  padding-top: 6px;\n",
       "  padding-bottom: 6px;\n",
       "  margin-bottom: 4px;\n",
       "  border-bottom: solid 1px var(--xr-border-color);\n",
       "}\n",
       "\n",
       ".xr-header > div,\n",
       ".xr-header > ul {\n",
       "  display: inline;\n",
       "  margin-top: 0;\n",
       "  margin-bottom: 0;\n",
       "}\n",
       "\n",
       ".xr-obj-type,\n",
       ".xr-array-name {\n",
       "  margin-left: 2px;\n",
       "  margin-right: 10px;\n",
       "}\n",
       "\n",
       ".xr-obj-type {\n",
       "  color: var(--xr-font-color2);\n",
       "}\n",
       "\n",
       ".xr-sections {\n",
       "  padding-left: 0 !important;\n",
       "  display: grid;\n",
       "  grid-template-columns: 150px auto auto 1fr 20px 20px;\n",
       "}\n",
       "\n",
       ".xr-section-item {\n",
       "  display: contents;\n",
       "}\n",
       "\n",
       ".xr-section-item input {\n",
       "  display: none;\n",
       "}\n",
       "\n",
       ".xr-section-item input + label {\n",
       "  color: var(--xr-disabled-color);\n",
       "}\n",
       "\n",
       ".xr-section-item input:enabled + label {\n",
       "  cursor: pointer;\n",
       "  color: var(--xr-font-color2);\n",
       "}\n",
       "\n",
       ".xr-section-item input:enabled + label:hover {\n",
       "  color: var(--xr-font-color0);\n",
       "}\n",
       "\n",
       ".xr-section-summary {\n",
       "  grid-column: 1;\n",
       "  color: var(--xr-font-color2);\n",
       "  font-weight: 500;\n",
       "}\n",
       "\n",
       ".xr-section-summary > span {\n",
       "  display: inline-block;\n",
       "  padding-left: 0.5em;\n",
       "}\n",
       "\n",
       ".xr-section-summary-in:disabled + label {\n",
       "  color: var(--xr-font-color2);\n",
       "}\n",
       "\n",
       ".xr-section-summary-in + label:before {\n",
       "  display: inline-block;\n",
       "  content: '►';\n",
       "  font-size: 11px;\n",
       "  width: 15px;\n",
       "  text-align: center;\n",
       "}\n",
       "\n",
       ".xr-section-summary-in:disabled + label:before {\n",
       "  color: var(--xr-disabled-color);\n",
       "}\n",
       "\n",
       ".xr-section-summary-in:checked + label:before {\n",
       "  content: '▼';\n",
       "}\n",
       "\n",
       ".xr-section-summary-in:checked + label > span {\n",
       "  display: none;\n",
       "}\n",
       "\n",
       ".xr-section-summary,\n",
       ".xr-section-inline-details {\n",
       "  padding-top: 4px;\n",
       "  padding-bottom: 4px;\n",
       "}\n",
       "\n",
       ".xr-section-inline-details {\n",
       "  grid-column: 2 / -1;\n",
       "}\n",
       "\n",
       ".xr-section-details {\n",
       "  display: none;\n",
       "  grid-column: 1 / -1;\n",
       "  margin-bottom: 5px;\n",
       "}\n",
       "\n",
       ".xr-section-summary-in:checked ~ .xr-section-details {\n",
       "  display: contents;\n",
       "}\n",
       "\n",
       ".xr-array-wrap {\n",
       "  grid-column: 1 / -1;\n",
       "  display: grid;\n",
       "  grid-template-columns: 20px auto;\n",
       "}\n",
       "\n",
       ".xr-array-wrap > label {\n",
       "  grid-column: 1;\n",
       "  vertical-align: top;\n",
       "}\n",
       "\n",
       ".xr-preview {\n",
       "  color: var(--xr-font-color3);\n",
       "}\n",
       "\n",
       ".xr-array-preview,\n",
       ".xr-array-data {\n",
       "  padding: 0 5px !important;\n",
       "  grid-column: 2;\n",
       "}\n",
       "\n",
       ".xr-array-data,\n",
       ".xr-array-in:checked ~ .xr-array-preview {\n",
       "  display: none;\n",
       "}\n",
       "\n",
       ".xr-array-in:checked ~ .xr-array-data,\n",
       ".xr-array-preview {\n",
       "  display: inline-block;\n",
       "}\n",
       "\n",
       ".xr-dim-list {\n",
       "  display: inline-block !important;\n",
       "  list-style: none;\n",
       "  padding: 0 !important;\n",
       "  margin: 0;\n",
       "}\n",
       "\n",
       ".xr-dim-list li {\n",
       "  display: inline-block;\n",
       "  padding: 0;\n",
       "  margin: 0;\n",
       "}\n",
       "\n",
       ".xr-dim-list:before {\n",
       "  content: '(';\n",
       "}\n",
       "\n",
       ".xr-dim-list:after {\n",
       "  content: ')';\n",
       "}\n",
       "\n",
       ".xr-dim-list li:not(:last-child):after {\n",
       "  content: ',';\n",
       "  padding-right: 5px;\n",
       "}\n",
       "\n",
       ".xr-has-index {\n",
       "  font-weight: bold;\n",
       "}\n",
       "\n",
       ".xr-var-list,\n",
       ".xr-var-item {\n",
       "  display: contents;\n",
       "}\n",
       "\n",
       ".xr-var-item > div,\n",
       ".xr-var-item label,\n",
       ".xr-var-item > .xr-var-name span {\n",
       "  background-color: var(--xr-background-color-row-even);\n",
       "  margin-bottom: 0;\n",
       "}\n",
       "\n",
       ".xr-var-item > .xr-var-name:hover span {\n",
       "  padding-right: 5px;\n",
       "}\n",
       "\n",
       ".xr-var-list > li:nth-child(odd) > div,\n",
       ".xr-var-list > li:nth-child(odd) > label,\n",
       ".xr-var-list > li:nth-child(odd) > .xr-var-name span {\n",
       "  background-color: var(--xr-background-color-row-odd);\n",
       "}\n",
       "\n",
       ".xr-var-name {\n",
       "  grid-column: 1;\n",
       "}\n",
       "\n",
       ".xr-var-dims {\n",
       "  grid-column: 2;\n",
       "}\n",
       "\n",
       ".xr-var-dtype {\n",
       "  grid-column: 3;\n",
       "  text-align: right;\n",
       "  color: var(--xr-font-color2);\n",
       "}\n",
       "\n",
       ".xr-var-preview {\n",
       "  grid-column: 4;\n",
       "}\n",
       "\n",
       ".xr-var-name,\n",
       ".xr-var-dims,\n",
       ".xr-var-dtype,\n",
       ".xr-preview,\n",
       ".xr-attrs dt {\n",
       "  white-space: nowrap;\n",
       "  overflow: hidden;\n",
       "  text-overflow: ellipsis;\n",
       "  padding-right: 10px;\n",
       "}\n",
       "\n",
       ".xr-var-name:hover,\n",
       ".xr-var-dims:hover,\n",
       ".xr-var-dtype:hover,\n",
       ".xr-attrs dt:hover {\n",
       "  overflow: visible;\n",
       "  width: auto;\n",
       "  z-index: 1;\n",
       "}\n",
       "\n",
       ".xr-var-attrs,\n",
       ".xr-var-data {\n",
       "  display: none;\n",
       "  background-color: var(--xr-background-color) !important;\n",
       "  padding-bottom: 5px !important;\n",
       "}\n",
       "\n",
       ".xr-var-attrs-in:checked ~ .xr-var-attrs,\n",
       ".xr-var-data-in:checked ~ .xr-var-data {\n",
       "  display: block;\n",
       "}\n",
       "\n",
       ".xr-var-data > table {\n",
       "  float: right;\n",
       "}\n",
       "\n",
       ".xr-var-name span,\n",
       ".xr-var-data,\n",
       ".xr-attrs {\n",
       "  padding-left: 25px !important;\n",
       "}\n",
       "\n",
       ".xr-attrs,\n",
       ".xr-var-attrs,\n",
       ".xr-var-data {\n",
       "  grid-column: 1 / -1;\n",
       "}\n",
       "\n",
       "dl.xr-attrs {\n",
       "  padding: 0;\n",
       "  margin: 0;\n",
       "  display: grid;\n",
       "  grid-template-columns: 125px auto;\n",
       "}\n",
       "\n",
       ".xr-attrs dt,\n",
       ".xr-attrs dd {\n",
       "  padding: 0;\n",
       "  margin: 0;\n",
       "  float: left;\n",
       "  padding-right: 10px;\n",
       "  width: auto;\n",
       "}\n",
       "\n",
       ".xr-attrs dt {\n",
       "  font-weight: normal;\n",
       "  grid-column: 1;\n",
       "}\n",
       "\n",
       ".xr-attrs dt:hover span {\n",
       "  display: inline-block;\n",
       "  background: var(--xr-background-color);\n",
       "  padding-right: 10px;\n",
       "}\n",
       "\n",
       ".xr-attrs dd {\n",
       "  grid-column: 2;\n",
       "  white-space: pre-wrap;\n",
       "  word-break: break-all;\n",
       "}\n",
       "\n",
       ".xr-icon-database,\n",
       ".xr-icon-file-text2 {\n",
       "  display: inline-block;\n",
       "  vertical-align: middle;\n",
       "  width: 1em;\n",
       "  height: 1.5em !important;\n",
       "  stroke-width: 0;\n",
       "  stroke: currentColor;\n",
       "  fill: currentColor;\n",
       "}\n",
       "</style><pre class='xr-text-repr-fallback'>&lt;xarray.Dataset&gt;\n",
       "Dimensions:                 (time: 11196, latitude: 1, longitude: 1)\n",
       "Coordinates:\n",
       "  * time                    (time) int64 0 1 2 3 4 ... 11192 11193 11194 11195\n",
       "  * latitude                (latitude) float64 39.77\n",
       "  * longitude               (longitude) float64 -75.14\n",
       "Data variables:\n",
       "    ambientTemperature      (time, latitude, longitude) float64 28.62 ... 71.43\n",
       "    moduleTemperature       (time, latitude, longitude) float64 38.86 ... 69.67\n",
       "    planeOfArrayIrradiance  (time, latitude, longitude) float64 795.8 ... 3.574</pre><div class='xr-wrap' style='display:none'><div class='xr-header'><div class='xr-obj-type'>xarray.Dataset</div></div><ul class='xr-sections'><li class='xr-section-item'><input id='section-f64ede00-5770-4359-aaf9-aaf60ae1d5a3' class='xr-section-summary-in' type='checkbox' disabled ><label for='section-f64ede00-5770-4359-aaf9-aaf60ae1d5a3' class='xr-section-summary'  title='Expand/collapse section'>Dimensions:</label><div class='xr-section-inline-details'><ul class='xr-dim-list'><li><span class='xr-has-index'>time</span>: 11196</li><li><span class='xr-has-index'>latitude</span>: 1</li><li><span class='xr-has-index'>longitude</span>: 1</li></ul></div><div class='xr-section-details'></div></li><li class='xr-section-item'><input id='section-90c1fa41-8b32-4bf8-84cc-f4c911b5210f' class='xr-section-summary-in' type='checkbox'  checked><label for='section-90c1fa41-8b32-4bf8-84cc-f4c911b5210f' class='xr-section-summary' >Coordinates: <span>(3)</span></label><div class='xr-section-inline-details'></div><div class='xr-section-details'><ul class='xr-var-list'><li class='xr-var-item'><div class='xr-var-name'><span class='xr-has-index'>time</span></div><div class='xr-var-dims'>(time)</div><div class='xr-var-dtype'>int64</div><div class='xr-var-preview xr-preview'>0 1 2 3 ... 11192 11193 11194 11195</div><input id='attrs-b1d427b8-e7f8-43ea-bdcc-5fd2bce1a88e' class='xr-var-attrs-in' type='checkbox' disabled><label for='attrs-b1d427b8-e7f8-43ea-bdcc-5fd2bce1a88e' title='Show/Hide attributes'><svg class='icon xr-icon-file-text2'><use xlink:href='#icon-file-text2'></use></svg></label><input id='data-1a46fa81-23c3-4911-8fab-3cd3a2e6ae1d' class='xr-var-data-in' type='checkbox'><label for='data-1a46fa81-23c3-4911-8fab-3cd3a2e6ae1d' title='Show/Hide data repr'><svg class='icon xr-icon-database'><use xlink:href='#icon-database'></use></svg></label><div class='xr-var-attrs'><dl class='xr-attrs'></dl></div><div class='xr-var-data'><pre>array([    0,     1,     2, ..., 11193, 11194, 11195])</pre></div></li><li class='xr-var-item'><div class='xr-var-name'><span class='xr-has-index'>latitude</span></div><div class='xr-var-dims'>(latitude)</div><div class='xr-var-dtype'>float64</div><div class='xr-var-preview xr-preview'>39.77</div><input id='attrs-6ded0d20-a219-43ac-949c-09fc48eaf1a3' class='xr-var-attrs-in' type='checkbox' disabled><label for='attrs-6ded0d20-a219-43ac-949c-09fc48eaf1a3' title='Show/Hide attributes'><svg class='icon xr-icon-file-text2'><use xlink:href='#icon-file-text2'></use></svg></label><input id='data-5a55cb16-8cc1-44ab-92bf-22ac3cc00f44' class='xr-var-data-in' type='checkbox'><label for='data-5a55cb16-8cc1-44ab-92bf-22ac3cc00f44' title='Show/Hide data repr'><svg class='icon xr-icon-database'><use xlink:href='#icon-database'></use></svg></label><div class='xr-var-attrs'><dl class='xr-attrs'></dl></div><div class='xr-var-data'><pre>array([39.766039])</pre></div></li><li class='xr-var-item'><div class='xr-var-name'><span class='xr-has-index'>longitude</span></div><div class='xr-var-dims'>(longitude)</div><div class='xr-var-dtype'>float64</div><div class='xr-var-preview xr-preview'>-75.14</div><input id='attrs-4315948a-46fb-45fb-8c4e-b94ff2b35538' class='xr-var-attrs-in' type='checkbox' disabled><label for='attrs-4315948a-46fb-45fb-8c4e-b94ff2b35538' title='Show/Hide attributes'><svg class='icon xr-icon-file-text2'><use xlink:href='#icon-file-text2'></use></svg></label><input id='data-e7fb217e-6f44-4ff5-a420-b3c9db16cd10' class='xr-var-data-in' type='checkbox'><label for='data-e7fb217e-6f44-4ff5-a420-b3c9db16cd10' title='Show/Hide data repr'><svg class='icon xr-icon-database'><use xlink:href='#icon-database'></use></svg></label><div class='xr-var-attrs'><dl class='xr-attrs'></dl></div><div class='xr-var-data'><pre>array([-75.142027])</pre></div></li></ul></div></li><li class='xr-section-item'><input id='section-88eeec6e-c3be-4ffa-b038-e3c328f5d2d8' class='xr-section-summary-in' type='checkbox'  checked><label for='section-88eeec6e-c3be-4ffa-b038-e3c328f5d2d8' class='xr-section-summary' >Data variables: <span>(3)</span></label><div class='xr-section-inline-details'></div><div class='xr-section-details'><ul class='xr-var-list'><li class='xr-var-item'><div class='xr-var-name'><span>ambientTemperature</span></div><div class='xr-var-dims'>(time, latitude, longitude)</div><div class='xr-var-dtype'>float64</div><div class='xr-var-preview xr-preview'>28.62 24.43 12.59 ... 71.72 71.43</div><input id='attrs-73502da1-5c80-4081-9e92-69a9e201382a' class='xr-var-attrs-in' type='checkbox' disabled><label for='attrs-73502da1-5c80-4081-9e92-69a9e201382a' title='Show/Hide attributes'><svg class='icon xr-icon-file-text2'><use xlink:href='#icon-file-text2'></use></svg></label><input id='data-e3679dd0-1395-4701-a267-1701465ce2dc' class='xr-var-data-in' type='checkbox'><label for='data-e3679dd0-1395-4701-a267-1701465ce2dc' title='Show/Hide data repr'><svg class='icon xr-icon-database'><use xlink:href='#icon-database'></use></svg></label><div class='xr-var-attrs'><dl class='xr-attrs'></dl></div><div class='xr-var-data'><pre>array([[[28.62328333]],\n",
       "\n",
       "       [[24.42664167]],\n",
       "\n",
       "       [[12.59099167]],\n",
       "\n",
       "       ...,\n",
       "\n",
       "       [[72.70935833]],\n",
       "\n",
       "       [[71.72191667]],\n",
       "\n",
       "       [[71.42568333]]])</pre></div></li><li class='xr-var-item'><div class='xr-var-name'><span>moduleTemperature</span></div><div class='xr-var-dims'>(time, latitude, longitude)</div><div class='xr-var-dtype'>float64</div><div class='xr-var-preview xr-preview'>38.86 29.08 12.23 ... 69.61 69.67</div><input id='attrs-d094ef28-86c5-4e42-b67a-4d622a4b13da' class='xr-var-attrs-in' type='checkbox' disabled><label for='attrs-d094ef28-86c5-4e42-b67a-4d622a4b13da' title='Show/Hide attributes'><svg class='icon xr-icon-file-text2'><use xlink:href='#icon-file-text2'></use></svg></label><input id='data-681c9c87-173c-4a15-b48b-d9dbdccd48b3' class='xr-var-data-in' type='checkbox'><label for='data-681c9c87-173c-4a15-b48b-d9dbdccd48b3' title='Show/Hide data repr'><svg class='icon xr-icon-database'><use xlink:href='#icon-database'></use></svg></label><div class='xr-var-attrs'><dl class='xr-attrs'></dl></div><div class='xr-var-data'><pre>array([[[38.85653333]],\n",
       "\n",
       "       [[29.08445   ]],\n",
       "\n",
       "       [[12.23481333]],\n",
       "\n",
       "       ...,\n",
       "\n",
       "       [[70.51306667]],\n",
       "\n",
       "       [[69.60765   ]],\n",
       "\n",
       "       [[69.67230833]]])</pre></div></li><li class='xr-var-item'><div class='xr-var-name'><span>planeOfArrayIrradiance</span></div><div class='xr-var-dims'>(time, latitude, longitude)</div><div class='xr-var-dtype'>float64</div><div class='xr-var-preview xr-preview'>795.8 379.4 105.1 ... 3.192 3.574</div><input id='attrs-0aed533b-42b0-4308-bf51-b44bcde8aa6f' class='xr-var-attrs-in' type='checkbox' disabled><label for='attrs-0aed533b-42b0-4308-bf51-b44bcde8aa6f' title='Show/Hide attributes'><svg class='icon xr-icon-file-text2'><use xlink:href='#icon-file-text2'></use></svg></label><input id='data-f170645e-7e47-40d6-b78b-30fe2e61d638' class='xr-var-data-in' type='checkbox'><label for='data-f170645e-7e47-40d6-b78b-30fe2e61d638' title='Show/Hide data repr'><svg class='icon xr-icon-database'><use xlink:href='#icon-database'></use></svg></label><div class='xr-var-attrs'><dl class='xr-attrs'></dl></div><div class='xr-var-data'><pre>array([[[795.81591667]],\n",
       "\n",
       "       [[379.36883333]],\n",
       "\n",
       "       [[105.10901667]],\n",
       "\n",
       "       ...,\n",
       "\n",
       "       [[  3.19188   ]],\n",
       "\n",
       "       [[  3.19188   ]],\n",
       "\n",
       "       [[  3.57359167]]])</pre></div></li></ul></div></li><li class='xr-section-item'><input id='section-73c4b280-dba0-4a74-8e59-de41daefc052' class='xr-section-summary-in' type='checkbox' disabled ><label for='section-73c4b280-dba0-4a74-8e59-de41daefc052' class='xr-section-summary'  title='Expand/collapse section'>Attributes: <span>(0)</span></label><div class='xr-section-inline-details'></div><div class='xr-section-details'><dl class='xr-attrs'></dl></div></li></ul></div></div>"
      ],
      "text/plain": [
       "<xarray.Dataset>\n",
       "Dimensions:                 (time: 11196, latitude: 1, longitude: 1)\n",
       "Coordinates:\n",
       "  * time                    (time) int64 0 1 2 3 4 ... 11192 11193 11194 11195\n",
       "  * latitude                (latitude) float64 39.77\n",
       "  * longitude               (longitude) float64 -75.14\n",
       "Data variables:\n",
       "    ambientTemperature      (time, latitude, longitude) float64 28.62 ... 71.43\n",
       "    moduleTemperature       (time, latitude, longitude) float64 38.86 ... 69.67\n",
       "    planeOfArrayIrradiance  (time, latitude, longitude) float64 795.8 ... 3.574"
      ]
     },
     "execution_count": 3,
     "metadata": {},
     "output_type": "execute_result"
    }
   ],
   "source": [
    "y_train_xr"
   ]
  },
  {
   "cell_type": "code",
   "execution_count": 4,
   "id": "428bb9db",
   "metadata": {},
   "outputs": [
    {
     "name": "stdout",
     "output_type": "stream",
     "text": [
      "(11196, 169) (11196, 1) (11196, 169) (11196, 1)\n"
     ]
    }
   ],
   "source": [
    "X_train = X_train_xr[\"ssrd\"].stack(dim=[\"latitude\", \"longitude\"]).to_numpy()\n",
    "X_test = X_test_xr[\"ssrd\"].stack(dim=[\"latitude\", \"longitude\"]).to_numpy()\n",
    "\n",
    "\n",
    "\n",
    "y_train = y_train_xr[\"planeOfArrayIrradiance\"].stack(dim=[\"latitude\", \"longitude\"]).to_numpy()\n",
    "y_test = y_test_xr[\"planeOfArrayIrradiance\"].stack(dim=[\"latitude\", \"longitude\"]).to_numpy()\n",
    "\n",
    "print(X_train.shape, y_train.shape, X_test.shape, y_test.shape)\n"
   ]
  },
  {
   "cell_type": "code",
   "execution_count": 5,
   "id": "f56389d1",
   "metadata": {},
   "outputs": [
    {
     "name": "stdout",
     "output_type": "stream",
     "text": [
      "[False False False  True False False False False False  True False False\n",
      " False False False False  True False False False False False  True False\n",
      " False False False False False  True False False False False False  True\n",
      " False False False  True  True  True  True  True  True  True  True  True\n",
      "  True  True  True  True False False False  True False False False False\n",
      " False  True False False False False False False  True False False False\n",
      " False False  True False False False False False False  True False False\n",
      " False False False  True False False False False False False  True False\n",
      " False False False False  True False False False False False False  True\n",
      " False False False False False  True False False False  True  True  True\n",
      "  True  True  True  True  True  True  True  True  True  True False False\n",
      " False  True False False False False False  True False False False False\n",
      " False False  True False False False False False  True False False False\n",
      " False False False  True False False False False False  True False False\n",
      " False]\n",
      "(11196, 121) (11196, 121)\n"
     ]
    }
   ],
   "source": [
    "# Fix nans\n",
    "# Confirm nans pattern\n",
    "for i in range(X_train.shape[0]):\n",
    "    assert(np.all(np.isnan(X_train[0]) == np.isnan(X_train[i])))\n",
    "    \n",
    "# Confirm nans pattern\n",
    "for i in range(X_train.shape[0]):\n",
    "    assert(np.all(np.isnan(X_train[0]) == np.isnan(X_test[i])))\n",
    "\n",
    "nans_mask = np.isnan(X_train[0])\n",
    "\n",
    "print(nans_mask)\n",
    "\n",
    "if X_train.shape[1] == 169:\n",
    "    X_train = X_train[:, ~nans_mask]\n",
    "    X_test = X_test[:, ~nans_mask]\n",
    "    \n",
    "    y_train = np.nan_to_num(y_train, nan=0)\n",
    "    y_test = np.nan_to_num(y_test, nan=0)\n",
    "    \n",
    "print(X_train.shape, X_test.shape)"
   ]
  },
  {
   "cell_type": "code",
   "execution_count": 9,
   "id": "1a9c03ac",
   "metadata": {},
   "outputs": [
    {
     "name": "stdout",
     "output_type": "stream",
     "text": [
      "x_train values\n"
     ]
    },
    {
     "data": {
      "image/png": "[encoded data removed]",
      "text/plain": [
       "<Figure size 640x480 with 1 Axes>"
      ]
     },
     "metadata": {},
     "output_type": "display_data"
    },
    {
     "name": "stdout",
     "output_type": "stream",
     "text": [
      "X_test values\n"
     ]
    },
    {
     "data": {
      "image/png": "[encoded data removed]",
      "text/plain": [
       "<Figure size 640x480 with 1 Axes>"
      ]
     },
     "metadata": {},
     "output_type": "display_data"
    },
    {
     "name": "stdout",
     "output_type": "stream",
     "text": [
      "y_train values\n"
     ]
    },
    {
     "data": {
      "image/png": "[encoded data removed]",
      "text/plain": [
       "<Figure size 640x480 with 1 Axes>"
      ]
     },
     "metadata": {},
     "output_type": "display_data"
    },
    {
     "name": "stdout",
     "output_type": "stream",
     "text": [
      "y_test values\n"
     ]
    },
    {
     "data": {
      "image/png": "[encoded data removed]",
      "text/plain": [
       "<Figure size 640x480 with 1 Axes>"
      ]
     },
     "metadata": {},
     "output_type": "display_data"
    }
   ],
   "source": [
    "print('x_train values')\n",
    "plt.hist(X_train, bins=100)\n",
    "plt.show()\n",
    "\n",
    "print('X_test values')\n",
    "plt.hist(X_test, bins=100)\n",
    "plt.show()\n",
    "\n",
    "\n",
    "print('y_train values')\n",
    "plt.hist(y_train, bins=100)\n",
    "plt.show()\n",
    "\n",
    "\n",
    "\n",
    "print('y_test values')\n",
    "plt.hist(y_test, bins=100)\n",
    "plt.show()\n"
   ]
  },
  {
   "cell_type": "code",
   "execution_count": 7,
   "id": "5ed7252a",
   "metadata": {},
   "outputs": [
    {
     "name": "stdout",
     "output_type": "stream",
     "text": [
      "0\n"
     ]
    },
    {
     "data": {
      "text/plain": [
       "0"
      ]
     },
     "execution_count": 7,
     "metadata": {},
     "output_type": "execute_result"
    }
   ],
   "source": [
    "print(np.count_nonzero(np.isnan(y_test)))\n",
    "np.count_nonzero(np.isnan(np.log(y_train + 1)))"
   ]
  },
  {
   "cell_type": "code",
   "execution_count": 8,
   "id": "387da929",
   "metadata": {
    "scrolled": true
   },
   "outputs": [
    {
     "name": "stdout",
     "output_type": "stream",
     "text": [
      "[[ True]\n",
      " [ True]\n",
      " [ True]\n",
      " ...\n",
      " [ True]\n",
      " [ True]\n",
      " [ True]]\n",
      "(11196, 121) (11196, 1)\n",
      "(11196, 121) (11196, 1)\n"
     ]
    }
   ],
   "source": [
    "# Standardization\n",
    "X_train = np.log(X_train + 1)\n",
    "assert(np.count_nonzero(np.isnan(X_train)) == 0)\n",
    "X_test = np.log(X_test + 1)\n",
    "assert(np.count_nonzero(np.isnan(X_test)) == 0)\n",
    "y_train = np.log(y_train + 1)\n",
    "assert(np.count_nonzero(np.isnan(y_train)) == 0)\n",
    "y_test = np.log(y_test + 1)\n",
    "assert(np.count_nonzero(np.isnan(y_test)) == 0)\n",
    "\n",
    "# instead of xtrain mean, i would have to calculate the means for each variable seperately\n",
    "mean, std = X_train.mean(), X_train.std()\n",
    "\n",
    "X_train   = (X_train - mean)/std\n",
    "X_test    = (X_test - mean)/std\n",
    "\n",
    "\n",
    "mean, std = y_train.mean(), y_train.std()\n",
    "\n",
    "y_train = (y_train - mean) / std\n",
    "y_test = (y_test - mean) / std\n",
    "\n",
    "print(X_train.shape,y_train.shape)\n",
    "print(X_test.shape,y_test.shape)\n"
   ]
  },
  {
   "cell_type": "code",
   "execution_count": 40,
   "id": "c45ed0f6",
   "metadata": {},
   "outputs": [
    {
     "name": "stdout",
     "output_type": "stream",
     "text": [
      "Model: \"sequential_8\"\n",
      "_________________________________________________________________\n",
      " Layer (type)                Output Shape              Param #   \n",
      "=================================================================\n",
      " dense_20 (Dense)            (None, 128)               15616     \n",
      "                                                                 \n",
      " dense_21 (Dense)            (None, 128)               16512     \n",
      "                                                                 \n",
      " dense_22 (Dense)            (None, 1)                 129       \n",
      "                                                                 \n",
      "=================================================================\n",
      "Total params: 32,257\n",
      "Trainable params: 32,257\n",
      "Non-trainable params: 0\n",
      "_________________________________________________________________\n"
     ]
    }
   ],
   "source": [
    "# set hyperparameters\n",
    "n_neuron       = 128\n",
    "activation     = 'relu'\n",
    "num_epochs     = 48\n",
    "learning_rate  = 0.005\n",
    "minibatch_size = 64\n",
    "model_num      = 1\n",
    "\n",
    "#create the model\n",
    "model = Sequential()\n",
    "\n",
    "model.add(Dense(n_neuron,  activation=activation,input_shape=(X_train.shape[1],))) #  the 1st hidden layer \n",
    "model.add(Dense(n_neuron,  activation=activation)) # the 2nd hidden layer\n",
    "# model.add(Dense(n_neuron,  activation=activation)) # the 3rd hidden layer\n",
    "model.add(Dense(y_train.shape[1],  activation='linear')) # the output layer\n",
    "\n",
    "model.compile(loss='mse',optimizer=tf.keras.optimizers.SGD(learning_rate=learning_rate))\n",
    "\n",
    "model.summary()"
   ]
  },
  {
   "cell_type": "code",
   "execution_count": 41,
   "id": "71502921",
   "metadata": {},
   "outputs": [
    {
     "name": "stdout",
     "output_type": "stream",
     "text": [
      "Epoch 1/48\n",
      "140/140 [==============================] - 0s 1ms/step - loss: 0.9990 - val_loss: 1.2079\n",
      "Epoch 2/48\n",
      "140/140 [==============================] - 0s 965us/step - loss: 0.9854 - val_loss: 1.1139\n",
      "Epoch 3/48\n",
      "140/140 [==============================] - 0s 968us/step - loss: 0.9788 - val_loss: 1.0772\n",
      "Epoch 4/48\n",
      "140/140 [==============================] - 0s 967us/step - loss: 0.9810 - val_loss: 1.2378\n",
      "Epoch 5/48\n",
      "140/140 [==============================] - 0s 970us/step - loss: 0.9738 - val_loss: 1.1395\n",
      "Epoch 6/48\n",
      "140/140 [==============================] - 0s 954us/step - loss: 0.9744 - val_loss: 1.1421\n",
      "Epoch 7/48\n",
      "140/140 [==============================] - 0s 956us/step - loss: 0.9701 - val_loss: 1.0891\n",
      "Epoch 8/48\n",
      "140/140 [==============================] - 0s 975us/step - loss: 0.9704 - val_loss: 1.0751\n",
      "Epoch 9/48\n",
      "140/140 [==============================] - 0s 970us/step - loss: 0.9697 - val_loss: 1.1212\n",
      "Epoch 10/48\n",
      "140/140 [==============================] - 0s 953us/step - loss: 0.9697 - val_loss: 1.1552\n",
      "Epoch 11/48\n",
      "140/140 [==============================] - 0s 967us/step - loss: 0.9691 - val_loss: 1.0874\n",
      "Epoch 12/48\n",
      "140/140 [==============================] - 0s 973us/step - loss: 0.9644 - val_loss: 1.1016\n",
      "Epoch 13/48\n",
      "140/140 [==============================] - 0s 983us/step - loss: 0.9647 - val_loss: 1.1112\n",
      "Epoch 14/48\n",
      "140/140 [==============================] - 0s 990us/step - loss: 0.9667 - val_loss: 1.1012\n",
      "Epoch 15/48\n",
      "140/140 [==============================] - 0s 984us/step - loss: 0.9623 - val_loss: 1.0828\n",
      "Epoch 16/48\n",
      "140/140 [==============================] - 0s 990us/step - loss: 0.9651 - val_loss: 1.0809\n",
      "Epoch 17/48\n",
      "140/140 [==============================] - 0s 976us/step - loss: 0.9635 - val_loss: 1.0686\n",
      "Epoch 18/48\n",
      "140/140 [==============================] - 0s 961us/step - loss: 0.9630 - val_loss: 1.0648\n",
      "Epoch 19/48\n",
      "140/140 [==============================] - 0s 964us/step - loss: 0.9598 - val_loss: 1.0741\n",
      "Epoch 20/48\n",
      "140/140 [==============================] - 0s 974us/step - loss: 0.9606 - val_loss: 1.1019\n",
      "Epoch 21/48\n",
      "140/140 [==============================] - 0s 980us/step - loss: 0.9580 - val_loss: 1.1050\n",
      "Epoch 22/48\n",
      "140/140 [==============================] - 0s 979us/step - loss: 0.9611 - val_loss: 1.1048\n",
      "Epoch 23/48\n",
      "140/140 [==============================] - 0s 984us/step - loss: 0.9591 - val_loss: 1.0949\n",
      "Epoch 24/48\n",
      "140/140 [==============================] - 0s 987us/step - loss: 0.9577 - val_loss: 1.0752\n",
      "Epoch 25/48\n",
      "140/140 [==============================] - 0s 964us/step - loss: 0.9582 - val_loss: 1.1029\n",
      "Epoch 26/48\n",
      "140/140 [==============================] - 0s 971us/step - loss: 0.9569 - val_loss: 1.0773\n",
      "Epoch 27/48\n",
      "140/140 [==============================] - 0s 971us/step - loss: 0.9587 - val_loss: 1.1134\n",
      "Epoch 28/48\n",
      "140/140 [==============================] - 0s 1ms/step - loss: 0.9565 - val_loss: 1.0804\n",
      "Epoch 29/48\n",
      "140/140 [==============================] - 0s 1ms/step - loss: 0.9546 - val_loss: 1.0593\n",
      "Epoch 30/48\n",
      "140/140 [==============================] - 0s 1ms/step - loss: 0.9565 - val_loss: 1.1761\n",
      "Epoch 31/48\n",
      "140/140 [==============================] - 0s 1ms/step - loss: 0.9555 - val_loss: 1.0758\n",
      "Epoch 32/48\n",
      "140/140 [==============================] - 0s 1ms/step - loss: 0.9552 - val_loss: 1.0840\n",
      "Epoch 33/48\n",
      "140/140 [==============================] - 0s 968us/step - loss: 0.9533 - val_loss: 1.1047\n",
      "Epoch 34/48\n",
      "140/140 [==============================] - 0s 980us/step - loss: 0.9548 - val_loss: 1.0682\n",
      "Epoch 35/48\n",
      "140/140 [==============================] - 0s 986us/step - loss: 0.9518 - val_loss: 1.0942\n",
      "Epoch 36/48\n",
      "140/140 [==============================] - 0s 996us/step - loss: 0.9553 - val_loss: 1.1005\n",
      "Epoch 37/48\n",
      "140/140 [==============================] - 0s 1ms/step - loss: 0.9530 - val_loss: 1.1195\n",
      "Epoch 38/48\n",
      "140/140 [==============================] - 0s 961us/step - loss: 0.9541 - val_loss: 1.1086\n",
      "Epoch 39/48\n",
      "140/140 [==============================] - 0s 963us/step - loss: 0.9511 - val_loss: 1.0841\n",
      "Epoch 40/48\n",
      "140/140 [==============================] - 0s 978us/step - loss: 0.9531 - val_loss: 1.1299\n",
      "Epoch 41/48\n",
      "140/140 [==============================] - 0s 1ms/step - loss: 0.9515 - val_loss: 1.0975\n",
      "Epoch 42/48\n",
      "140/140 [==============================] - 0s 982us/step - loss: 0.9537 - val_loss: 1.0953\n",
      "Epoch 43/48\n",
      "140/140 [==============================] - 0s 1ms/step - loss: 0.9509 - val_loss: 1.0737\n",
      "Epoch 44/48\n",
      "140/140 [==============================] - 0s 975us/step - loss: 0.9514 - val_loss: 1.1017\n",
      "Epoch 45/48\n",
      "140/140 [==============================] - 0s 1ms/step - loss: 0.9523 - val_loss: 1.1172\n",
      "Epoch 46/48\n",
      "140/140 [==============================] - 0s 1ms/step - loss: 0.9521 - val_loss: 1.1196\n",
      "Epoch 47/48\n",
      "140/140 [==============================] - 0s 1ms/step - loss: 0.9501 - val_loss: 1.0701\n",
      "Epoch 48/48\n",
      "140/140 [==============================] - 0s 987us/step - loss: 0.9478 - val_loss: 1.0754\n",
      "\n",
      "Final test eval on different site:\n",
      "350/350 [==============================] - 0s 510us/step - loss: 0.7718\n"
     ]
    },
    {
     "data": {
      "text/plain": [
       "0.7718290686607361"
      ]
     },
     "execution_count": 41,
     "metadata": {},
     "output_type": "execute_result"
    }
   ],
   "source": [
    "early_stop = keras.callbacks.EarlyStopping(monitor='val_loss', patience=20)\n",
    "\n",
    "\n",
    "history = model.fit(X_train, y_train, \n",
    "                    batch_size      = minibatch_size,\n",
    "                    epochs          = num_epochs,\n",
    "                    validation_split = 0.2,\n",
    "                    verbose         = 1,\n",
    "                    callbacks       = [early_stop])\n",
    "\n",
    "print('\\nFinal test eval on different site:')\n",
    "model.evaluate(X_test, y_test)\n"
   ]
  },
  {
   "cell_type": "code",
   "execution_count": 44,
   "id": "9c486f58",
   "metadata": {},
   "outputs": [
    {
     "data": {
      "image/png": "[encoded data removed]",
      "text/plain": [
       "<Figure size 640x480 with 1 Axes>"
      ]
     },
     "metadata": {},
     "output_type": "display_data"
    }
   ],
   "source": [
    "plot_history(history)"
   ]
  },
  {
   "cell_type": "code",
   "execution_count": 45,
   "id": "9b96815d",
   "metadata": {},
   "outputs": [],
   "source": [
    "model_path = os.path.join(cwd,'saved_model')\n",
    "make_dir(model_path)"
   ]
  },
  {
   "cell_type": "code",
   "execution_count": 46,
   "id": "578b4538",
   "metadata": {},
   "outputs": [],
   "source": [
    "# Save the entire model to a HDF5 file.\n",
    "# The '.h5' extension indicates that the model should be saved to HDF5.\n",
    "model.save(os.path.join(model_path,'NN_model.h5'))"
   ]
  },
  {
   "cell_type": "code",
   "execution_count": 47,
   "id": "ee4c969b",
   "metadata": {},
   "outputs": [],
   "source": [
    "# reload the saved model\n",
    "model = load_model(os.path.join(model_path,'NN_model.h5'))"
   ]
  },
  {
   "cell_type": "code",
   "execution_count": 48,
   "id": "64f06baf",
   "metadata": {},
   "outputs": [],
   "source": [
    "coords_mantua = {'lon' : 39.766038926962466, 'lat' : -75.14202657295235}\n",
    "coords_west = {'lon' : 41.13935584322975, 'lat' : -73.52551929903115}\n",
    "coords_water = {'lon' : 39.75493159954764, 'lat' : -74.88289845779185}"
   ]
  },
  {
   "cell_type": "code",
   "execution_count": 50,
   "id": "7f616ace",
   "metadata": {},
   "outputs": [
    {
     "name": "stdout",
     "output_type": "stream",
     "text": [
      "350/350 [==============================] - 0s 458us/step\n"
     ]
    }
   ],
   "source": [
    "y_test_pre = model.predict(X_test)"
   ]
  },
  {
   "cell_type": "code",
   "execution_count": 54,
   "id": "55146f98",
   "metadata": {},
   "outputs": [
    {
     "data": {
      "text/plain": [
       "array([[0.00688066],\n",
       "       [0.00693274],\n",
       "       [0.00693274],\n",
       "       ...,\n",
       "       [0.08520833],\n",
       "       [0.08520833],\n",
       "       [0.08520833]], dtype=float32)"
      ]
     },
     "execution_count": 54,
     "metadata": {},
     "output_type": "execute_result"
    }
   ],
   "source": [
    "y_test_pre"
   ]
  },
  {
   "cell_type": "code",
   "execution_count": 51,
   "id": "e9f17a5e",
   "metadata": {
    "scrolled": false
   },
   "outputs": [
    {
     "ename": "KeyError",
     "evalue": "'directIrradiance'",
     "output_type": "error",
     "traceback": [
      "\u001b[0;31m---------------------------------------------------------------------------\u001b[0m",
      "\u001b[0;31mKeyError\u001b[0m                                  Traceback (most recent call last)",
      "File \u001b[0;32m~/opt/anaconda3/envs/EEE/lib/python3.9/site-packages/xarray/core/dataset.py:1336\u001b[0m, in \u001b[0;36mDataset._construct_dataarray\u001b[0;34m(self, name)\u001b[0m\n\u001b[1;32m   1335\u001b[0m \u001b[38;5;28;01mtry\u001b[39;00m:\n\u001b[0;32m-> 1336\u001b[0m     variable \u001b[38;5;241m=\u001b[39m \u001b[38;5;28;43mself\u001b[39;49m\u001b[38;5;241;43m.\u001b[39;49m\u001b[43m_variables\u001b[49m\u001b[43m[\u001b[49m\u001b[43mname\u001b[49m\u001b[43m]\u001b[49m\n\u001b[1;32m   1337\u001b[0m \u001b[38;5;28;01mexcept\u001b[39;00m \u001b[38;5;167;01mKeyError\u001b[39;00m:\n",
      "\u001b[0;31mKeyError\u001b[0m: 'directIrradiance'",
      "\nDuring handling of the above exception, another exception occurred:\n",
      "\u001b[0;31mKeyError\u001b[0m                                  Traceback (most recent call last)",
      "Input \u001b[0;32mIn [51]\u001b[0m, in \u001b[0;36m<cell line: 1>\u001b[0;34m()\u001b[0m\n\u001b[0;32m----> 1\u001b[0m df_test \u001b[38;5;241m=\u001b[39m pd\u001b[38;5;241m.\u001b[39mDataFrame(\u001b[43my_test_xr\u001b[49m\u001b[43m[\u001b[49m\u001b[38;5;124;43m\"\u001b[39;49m\u001b[38;5;124;43mdirectIrradiance\u001b[39;49m\u001b[38;5;124;43m\"\u001b[39;49m\u001b[43m]\u001b[49m\u001b[38;5;241m.\u001b[39mstack(dim\u001b[38;5;241m=\u001b[39m[\u001b[38;5;124m\"\u001b[39m\u001b[38;5;124mlatitude\u001b[39m\u001b[38;5;124m\"\u001b[39m, \u001b[38;5;124m\"\u001b[39m\u001b[38;5;124mlongitude\u001b[39m\u001b[38;5;124m\"\u001b[39m]),columns\u001b[38;5;241m=\u001b[39m[\u001b[38;5;124m\"\u001b[39m\u001b[38;5;124my_actual\u001b[39m\u001b[38;5;124m\"\u001b[39m],index\u001b[38;5;241m=\u001b[39mX_test_xr[\u001b[38;5;124m\"\u001b[39m\u001b[38;5;124mtime\u001b[39m\u001b[38;5;124m\"\u001b[39m])\n\u001b[1;32m      2\u001b[0m df_test[\u001b[38;5;124m\"\u001b[39m\u001b[38;5;124my_predict\u001b[39m\u001b[38;5;124m\"\u001b[39m] \u001b[38;5;241m=\u001b[39m y_test_pre\n\u001b[1;32m      3\u001b[0m df_test\n",
      "File \u001b[0;32m~/opt/anaconda3/envs/EEE/lib/python3.9/site-packages/xarray/core/dataset.py:1427\u001b[0m, in \u001b[0;36mDataset.__getitem__\u001b[0;34m(self, key)\u001b[0m\n\u001b[1;32m   1425\u001b[0m     \u001b[38;5;28;01mreturn\u001b[39;00m \u001b[38;5;28mself\u001b[39m\u001b[38;5;241m.\u001b[39misel(\u001b[38;5;241m*\u001b[39m\u001b[38;5;241m*\u001b[39mkey)\n\u001b[1;32m   1426\u001b[0m \u001b[38;5;28;01mif\u001b[39;00m utils\u001b[38;5;241m.\u001b[39mhashable(key):\n\u001b[0;32m-> 1427\u001b[0m     \u001b[38;5;28;01mreturn\u001b[39;00m \u001b[38;5;28;43mself\u001b[39;49m\u001b[38;5;241;43m.\u001b[39;49m\u001b[43m_construct_dataarray\u001b[49m\u001b[43m(\u001b[49m\u001b[43mkey\u001b[49m\u001b[43m)\u001b[49m\n\u001b[1;32m   1428\u001b[0m \u001b[38;5;28;01mif\u001b[39;00m utils\u001b[38;5;241m.\u001b[39miterable_of_hashable(key):\n\u001b[1;32m   1429\u001b[0m     \u001b[38;5;28;01mreturn\u001b[39;00m \u001b[38;5;28mself\u001b[39m\u001b[38;5;241m.\u001b[39m_copy_listed(key)\n",
      "File \u001b[0;32m~/opt/anaconda3/envs/EEE/lib/python3.9/site-packages/xarray/core/dataset.py:1338\u001b[0m, in \u001b[0;36mDataset._construct_dataarray\u001b[0;34m(self, name)\u001b[0m\n\u001b[1;32m   1336\u001b[0m     variable \u001b[38;5;241m=\u001b[39m \u001b[38;5;28mself\u001b[39m\u001b[38;5;241m.\u001b[39m_variables[name]\n\u001b[1;32m   1337\u001b[0m \u001b[38;5;28;01mexcept\u001b[39;00m \u001b[38;5;167;01mKeyError\u001b[39;00m:\n\u001b[0;32m-> 1338\u001b[0m     _, name, variable \u001b[38;5;241m=\u001b[39m \u001b[43m_get_virtual_variable\u001b[49m\u001b[43m(\u001b[49m\u001b[38;5;28;43mself\u001b[39;49m\u001b[38;5;241;43m.\u001b[39;49m\u001b[43m_variables\u001b[49m\u001b[43m,\u001b[49m\u001b[43m \u001b[49m\u001b[43mname\u001b[49m\u001b[43m,\u001b[49m\u001b[43m \u001b[49m\u001b[38;5;28;43mself\u001b[39;49m\u001b[38;5;241;43m.\u001b[39;49m\u001b[43mdims\u001b[49m\u001b[43m)\u001b[49m\n\u001b[1;32m   1340\u001b[0m needed_dims \u001b[38;5;241m=\u001b[39m \u001b[38;5;28mset\u001b[39m(variable\u001b[38;5;241m.\u001b[39mdims)\n\u001b[1;32m   1342\u001b[0m coords: \u001b[38;5;28mdict\u001b[39m[Hashable, Variable] \u001b[38;5;241m=\u001b[39m {}\n",
      "File \u001b[0;32m~/opt/anaconda3/envs/EEE/lib/python3.9/site-packages/xarray/core/dataset.py:177\u001b[0m, in \u001b[0;36m_get_virtual_variable\u001b[0;34m(variables, key, dim_sizes)\u001b[0m\n\u001b[1;32m    175\u001b[0m split_key \u001b[38;5;241m=\u001b[39m key\u001b[38;5;241m.\u001b[39msplit(\u001b[38;5;124m\"\u001b[39m\u001b[38;5;124m.\u001b[39m\u001b[38;5;124m\"\u001b[39m, \u001b[38;5;241m1\u001b[39m)\n\u001b[1;32m    176\u001b[0m \u001b[38;5;28;01mif\u001b[39;00m \u001b[38;5;28mlen\u001b[39m(split_key) \u001b[38;5;241m!=\u001b[39m \u001b[38;5;241m2\u001b[39m:\n\u001b[0;32m--> 177\u001b[0m     \u001b[38;5;28;01mraise\u001b[39;00m \u001b[38;5;167;01mKeyError\u001b[39;00m(key)\n\u001b[1;32m    179\u001b[0m ref_name, var_name \u001b[38;5;241m=\u001b[39m split_key\n\u001b[1;32m    180\u001b[0m ref_var \u001b[38;5;241m=\u001b[39m variables[ref_name]\n",
      "\u001b[0;31mKeyError\u001b[0m: 'directIrradiance'"
     ]
    }
   ],
   "source": [
    "df_test = pd.DataFrame(y_test_xr[\"directIrradiance\"].stack(dim=[\"latitude\", \"longitude\"]),columns=[\"y_actual\"],index=X_test_xr[\"time\"])\n",
    "df_test[\"y_predict\"] = y_test_pre\n",
    "df_test"
   ]
  },
  {
   "cell_type": "code",
   "execution_count": 27,
   "id": "aac8b713",
   "metadata": {},
   "outputs": [
    {
     "ename": "NameError",
     "evalue": "name 'df_test' is not defined",
     "output_type": "error",
     "traceback": [
      "\u001b[0;31m---------------------------------------------------------------------------\u001b[0m",
      "\u001b[0;31mNameError\u001b[0m                                 Traceback (most recent call last)",
      "Input \u001b[0;32mIn [27]\u001b[0m, in \u001b[0;36m<cell line: 1>\u001b[0;34m()\u001b[0m\n\u001b[0;32m----> 1\u001b[0m \u001b[43mdf_test\u001b[49m[\u001b[38;5;241m50\u001b[39m:\u001b[38;5;241m100\u001b[39m]\n",
      "\u001b[0;31mNameError\u001b[0m: name 'df_test' is not defined"
     ]
    }
   ],
   "source": [
    "df_test[50:100]"
   ]
  },
  {
   "cell_type": "code",
   "execution_count": null,
   "id": "5973823c",
   "metadata": {},
   "outputs": [],
   "source": []
  }
 ],
 "metadata": {
  "kernelspec": {
   "display_name": "Python 3 (ipykernel)",
   "language": "python",
   "name": "python3"
  },
  "language_info": {
   "codemirror_mode": {
    "name": "ipython",
    "version": 3
   },
   "file_extension": ".py",
   "mimetype": "text/x-python",
   "name": "python",
   "nbconvert_exporter": "python",
   "pygments_lexer": "ipython3",
   "version": "3.9.13"
  }
 },
 "nbformat": 4,
 "nbformat_minor": 5
}
