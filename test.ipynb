{
 "cells": [
  {
   "cell_type": "code",
   "execution_count": 2,
   "id": "c0dae7d5",
   "metadata": {},
   "outputs": [
    {
     "name": "stderr",
     "output_type": "stream",
     "text": [
      "2022-10-31 14:35:47.687451: I tensorflow/core/platform/cpu_feature_guard.cc:193] This TensorFlow binary is optimized with oneAPI Deep Neural Network Library (oneDNN) to use the following CPU instructions in performance-critical operations:  SSE4.1 SSE4.2\n",
      "To enable them in other operations, rebuild TensorFlow with the appropriate compiler flags.\n"
     ]
    }
   ],
   "source": [
    "import pandas as pd\n",
    "import numpy as np\n",
    "from numpy import genfromtxt\n",
    "import matplotlib.pyplot as plt\n",
    "from utils import * \n",
    "import xarray\n",
    "\n",
    "import tensorflow as tf\n",
    "from tensorflow import keras\n",
    "from tensorflow.keras.models import Model, load_model\n",
    "from tensorflow.keras.layers import *\n",
    "from tensorflow.keras import Sequential"
   ]
  },
  {
   "cell_type": "code",
   "execution_count": 3,
   "id": "51aa2723",
   "metadata": {
    "scrolled": false
   },
   "outputs": [],
   "source": [
    "cwd = os.getcwd()\n",
    "train_path = \"data/train/\"\n",
    "test_path = \"data/test/\"\n",
    "\n",
    "# Training set\n",
    "train_files    = [\"mantua\"]\n",
    "X_train_xr, _  = prepare_predictor(train_files,train_path)\n",
    "y_train_xr, _  = prepare_predictand(train_files,train_path)\n",
    "\n",
    "# Test set\n",
    "X_test_xr, _ = prepare_predictor('water', data_path=test_path,time_reindex=False)\n",
    "y_test_xr, _ = prepare_predictand('water',data_path=test_path,time_reindex=False)"
   ]
  },
  {
   "cell_type": "code",
   "execution_count": 5,
   "id": "428bb9db",
   "metadata": {},
   "outputs": [],
   "source": [
    "X_train_df = X_train_xr[\"ssrd\"].stack(dim=[\"latitude\", \"longitude\"])\n",
    "X_test_df = X_test_xr[\"ssrd\"].stack(dim=[\"latitude\", \"longitude\"])\n",
    "\n",
    "\n",
    "\n",
    "y_train_df = y_train_xr[\"planeOfArrayIrradiance\"].stack(dim=[\"latitude\", \"longitude\"]).fillna(0)\n",
    "y_train_df = pd.DataFrame(y_train_df.to_pandas())\n",
    "y_test_df = y_test_xr[\"planeOfArrayIrradiance\"].stack(dim=[\"latitude\", \"longitude\"]).fillna(0)\n"
   ]
  },
  {
   "cell_type": "code",
   "execution_count": 93,
   "id": "387da929",
   "metadata": {},
   "outputs": [
    {
     "name": "stdout",
     "output_type": "stream",
     "text": [
      "(11198, 6) (11198, 1)\n",
      "(11198, 4) (11198, 1)\n"
     ]
    }
   ],
   "source": [
    "# Standardization\n",
    "mean, std = X_train_df.mean(), X_train_df.std()\n",
    "\n",
    "X_train_df   = (X_train_df - mean)/std\n",
    "X_test_df    = (X_test_df - mean)/std\n",
    "\n",
    "X_train = X_train_df.to_numpy()\n",
    "y_train = y_train_df.to_numpy()\n",
    "X_test = X_test_df.to_numpy()\n",
    "Y_test = y_test_df.to_numpy()\n",
    "\n",
    "print(X_train.shape,y_train.shape)\n",
    "print(X_test.shape,y_train.shape)\n"
   ]
  },
  {
   "cell_type": "code",
   "execution_count": 96,
   "id": "c45ed0f6",
   "metadata": {},
   "outputs": [
    {
     "name": "stdout",
     "output_type": "stream",
     "text": [
      "Model: \"sequential_2\"\n",
      "_________________________________________________________________\n",
      " Layer (type)                Output Shape              Param #   \n",
      "=================================================================\n",
      " dense_8 (Dense)             (None, 512)               3584      \n",
      "                                                                 \n",
      " dense_9 (Dense)             (None, 512)               262656    \n",
      "                                                                 \n",
      " dense_10 (Dense)            (None, 512)               262656    \n",
      "                                                                 \n",
      " dense_11 (Dense)            (None, 1)                 513       \n",
      "                                                                 \n",
      "=================================================================\n",
      "Total params: 529,409\n",
      "Trainable params: 529,409\n",
      "Non-trainable params: 0\n",
      "_________________________________________________________________\n"
     ]
    }
   ],
   "source": [
    "# set hyperparameters\n",
    "n_neuron       = 512\n",
    "activation     = 'relu'\n",
    "num_epochs     = 48\n",
    "learning_rate  = 0.001\n",
    "minibatch_size = 64\n",
    "model_num      = 1\n",
    "\n",
    "#create the model\n",
    "model = Sequential()\n",
    "\n",
    "model.add(Dense(n_neuron,  activation=activation,input_shape=(X_train.shape[1],))) #  the 1st hidden layer \n",
    "model.add(Dense(n_neuron,  activation=activation)) # the 2nd hidden layer\n",
    "model.add(Dense(n_neuron,  activation=activation)) # the 3rd hidden layer\n",
    "model.add(Dense(y_train.shape[1],  activation='linear')) # the output layer\n",
    "\n",
    "model.compile(loss='mse',optimizer=tf.keras.optimizers.Adam(learning_rate=learning_rate))\n",
    "\n",
    "model.summary()"
   ]
  },
  {
   "cell_type": "code",
   "execution_count": 97,
   "id": "71502921",
   "metadata": {},
   "outputs": [
    {
     "name": "stdout",
     "output_type": "stream",
     "text": [
      "Epoch 1/48\n",
      "88/88 [==============================] - 1s 6ms/step - loss: 84937.8281 - val_loss: 72220.5703\n",
      "Epoch 2/48\n",
      "88/88 [==============================] - 0s 5ms/step - loss: 74275.5938 - val_loss: 69684.1484\n",
      "Epoch 3/48\n",
      "88/88 [==============================] - 0s 5ms/step - loss: 73282.4609 - val_loss: 68403.9844\n",
      "Epoch 4/48\n",
      "88/88 [==============================] - 0s 5ms/step - loss: 72819.0000 - val_loss: 68170.0625\n",
      "Epoch 5/48\n",
      "88/88 [==============================] - 0s 5ms/step - loss: 72307.0000 - val_loss: 68394.6172\n",
      "Epoch 6/48\n",
      "88/88 [==============================] - 0s 5ms/step - loss: 72684.2578 - val_loss: 68274.8281\n",
      "Epoch 7/48\n",
      "88/88 [==============================] - 0s 5ms/step - loss: 72426.0703 - val_loss: 68081.3047\n",
      "Epoch 8/48\n",
      "88/88 [==============================] - 0s 5ms/step - loss: 72739.8125 - val_loss: 67817.7109\n",
      "Epoch 9/48\n",
      "88/88 [==============================] - 0s 5ms/step - loss: 72289.2812 - val_loss: 68155.8906\n",
      "Epoch 10/48\n",
      "88/88 [==============================] - 0s 5ms/step - loss: 72107.2812 - val_loss: 67740.6797\n",
      "Epoch 11/48\n",
      "88/88 [==============================] - 0s 5ms/step - loss: 71977.7891 - val_loss: 67778.1641\n",
      "Epoch 12/48\n",
      "88/88 [==============================] - 0s 5ms/step - loss: 71977.1172 - val_loss: 67893.4844\n",
      "Epoch 13/48\n",
      "88/88 [==============================] - 0s 5ms/step - loss: 71948.7188 - val_loss: 67656.2578\n",
      "Epoch 14/48\n",
      "88/88 [==============================] - 0s 5ms/step - loss: 71933.8984 - val_loss: 67633.6250\n",
      "Epoch 15/48\n",
      "88/88 [==============================] - 0s 5ms/step - loss: 71970.1797 - val_loss: 67735.5781\n",
      "Epoch 16/48\n",
      "88/88 [==============================] - 0s 5ms/step - loss: 71956.8125 - val_loss: 68240.1094\n",
      "Epoch 17/48\n",
      "88/88 [==============================] - 0s 5ms/step - loss: 72113.3203 - val_loss: 67698.3047\n",
      "Epoch 18/48\n",
      "88/88 [==============================] - 0s 5ms/step - loss: 71975.2891 - val_loss: 68234.3984\n",
      "Epoch 19/48\n",
      "88/88 [==============================] - 0s 5ms/step - loss: 71944.7812 - val_loss: 67604.5547\n",
      "Epoch 20/48\n",
      "88/88 [==============================] - 0s 5ms/step - loss: 72095.2734 - val_loss: 67630.0781\n",
      "Epoch 21/48\n",
      "88/88 [==============================] - 0s 5ms/step - loss: 72119.7734 - val_loss: 68498.0625\n",
      "Epoch 22/48\n",
      "88/88 [==============================] - 0s 5ms/step - loss: 72140.6719 - val_loss: 67839.8203\n",
      "Epoch 23/48\n",
      "88/88 [==============================] - 0s 5ms/step - loss: 71876.7109 - val_loss: 67931.5312\n",
      "Epoch 24/48\n",
      "88/88 [==============================] - 0s 5ms/step - loss: 71951.0859 - val_loss: 67675.6953\n",
      "Epoch 25/48\n",
      "88/88 [==============================] - 0s 5ms/step - loss: 72152.3984 - val_loss: 68135.1250\n",
      "Epoch 26/48\n",
      "88/88 [==============================] - 0s 5ms/step - loss: 71943.0000 - val_loss: 68398.1797\n",
      "Epoch 27/48\n",
      "88/88 [==============================] - 0s 5ms/step - loss: 72070.6250 - val_loss: 68339.9297\n",
      "Epoch 28/48\n",
      "88/88 [==============================] - 0s 5ms/step - loss: 71901.9609 - val_loss: 67629.7891\n",
      "Epoch 29/48\n",
      "88/88 [==============================] - 0s 6ms/step - loss: 71701.5234 - val_loss: 68174.8438\n",
      "Epoch 30/48\n",
      "88/88 [==============================] - 0s 5ms/step - loss: 71938.6484 - val_loss: 68098.9609\n",
      "Epoch 31/48\n",
      "88/88 [==============================] - 0s 5ms/step - loss: 71882.9609 - val_loss: 67929.5781\n",
      "Epoch 32/48\n",
      "88/88 [==============================] - 0s 5ms/step - loss: 72105.2969 - val_loss: 67934.0547\n",
      "Epoch 33/48\n",
      "88/88 [==============================] - 0s 5ms/step - loss: 72073.3828 - val_loss: 67609.7266\n",
      "Epoch 34/48\n",
      "88/88 [==============================] - 0s 5ms/step - loss: 71648.2422 - val_loss: 68019.7031\n",
      "Epoch 35/48\n",
      "88/88 [==============================] - 0s 5ms/step - loss: 72019.5078 - val_loss: 68380.0703\n",
      "Epoch 36/48\n",
      "88/88 [==============================] - 0s 5ms/step - loss: 72083.5156 - val_loss: 68171.9297\n",
      "Epoch 37/48\n",
      "88/88 [==============================] - 0s 5ms/step - loss: 72032.9922 - val_loss: 67684.4141\n",
      "Epoch 38/48\n",
      "88/88 [==============================] - 0s 5ms/step - loss: 72006.5469 - val_loss: 68368.0625\n",
      "Epoch 39/48\n",
      "88/88 [==============================] - 0s 5ms/step - loss: 72033.3438 - val_loss: 67574.1094\n",
      "Epoch 40/48\n",
      "88/88 [==============================] - 0s 5ms/step - loss: 72132.4609 - val_loss: 68126.8750\n",
      "Epoch 41/48\n",
      "88/88 [==============================] - 0s 5ms/step - loss: 71840.2891 - val_loss: 67975.8047\n",
      "Epoch 42/48\n",
      "88/88 [==============================] - 0s 5ms/step - loss: 71896.3281 - val_loss: 68175.2422\n",
      "Epoch 43/48\n",
      "88/88 [==============================] - 0s 5ms/step - loss: 72448.0938 - val_loss: 67667.7500\n",
      "Epoch 44/48\n",
      "88/88 [==============================] - 0s 5ms/step - loss: 71904.1172 - val_loss: 67697.0703\n",
      "Epoch 45/48\n",
      "88/88 [==============================] - 0s 5ms/step - loss: 71922.0859 - val_loss: 67936.5391\n",
      "Epoch 46/48\n",
      "88/88 [==============================] - 0s 5ms/step - loss: 71940.4844 - val_loss: 68095.1094\n",
      "Epoch 47/48\n",
      "88/88 [==============================] - 0s 5ms/step - loss: 71811.4141 - val_loss: 67672.3516\n",
      "Epoch 48/48\n",
      "88/88 [==============================] - 0s 5ms/step - loss: 72158.8125 - val_loss: 67967.7578\n"
     ]
    }
   ],
   "source": [
    "early_stop = keras.callbacks.EarlyStopping(monitor='val_loss', patience=20)\n",
    "\n",
    "\n",
    "history = model.fit(X_train, y_train, \n",
    "                    batch_size      = minibatch_size,\n",
    "                    epochs          = num_epochs,\n",
    "                    validation_split= 0.5, \n",
    "                    verbose         = 1,\n",
    "                    callbacks       = [early_stop])\n",
    "\n"
   ]
  },
  {
   "cell_type": "code",
   "execution_count": 43,
   "id": "9c486f58",
   "metadata": {},
   "outputs": [
    {
     "data": {
      "image/png": "[encoded data removed]",
      "text/plain": [
       "<Figure size 640x480 with 1 Axes>"
      ]
     },
     "metadata": {},
     "output_type": "display_data"
    }
   ],
   "source": [
    "plot_history(history)"
   ]
  },
  {
   "cell_type": "code",
   "execution_count": 44,
   "id": "9b96815d",
   "metadata": {},
   "outputs": [],
   "source": [
    "model_path = os.path.join(cwd,'saved_model')\n",
    "make_dir(model_path)"
   ]
  },
  {
   "cell_type": "code",
   "execution_count": 45,
   "id": "578b4538",
   "metadata": {},
   "outputs": [],
   "source": [
    "# Save the entire model to a HDF5 file.\n",
    "# The '.h5' extension indicates that the model should be saved to HDF5.\n",
    "model.save(os.path.join(model_path,'NN_model.h5'))"
   ]
  },
  {
   "cell_type": "code",
   "execution_count": 46,
   "id": "ee4c969b",
   "metadata": {},
   "outputs": [],
   "source": [
    "# reload the saved model\n",
    "model = load_model(os.path.join(model_path,'NN_model.h5'))"
   ]
  },
  {
   "cell_type": "code",
   "execution_count": 47,
   "id": "64f06baf",
   "metadata": {},
   "outputs": [],
   "source": [
    "coords_mantua = {'lon' : 39.766038926962466, 'lat' : -75.14202657295235}\n",
    "coords_west = {'lon' : 41.13935584322975, 'lat' : -73.52551929903115}\n",
    "coords_water = {'lon' : 39.75493159954764, 'lat' : -74.88289845779185}"
   ]
  },
  {
   "cell_type": "code",
   "execution_count": 50,
   "id": "2725e12d",
   "metadata": {},
   "outputs": [
    {
     "data": {
      "text/plain": [
       "array([[-0.57123077, -0.5711687 , -0.57272017, -0.5726581 ],\n",
       "       [-0.55937725, -0.55931526, -0.5613632 , -0.5613012 ],\n",
       "       [-0.5560262 , -0.5560262 , -0.5583224 , -0.5583224 ],\n",
       "       ...,\n",
       "       [-0.6075358 , -0.6075358 , -0.6075358 , -0.6075358 ],\n",
       "       [-0.6075358 , -0.6075358 , -0.6075358 , -0.6075358 ],\n",
       "       [-0.6075358 , -0.6075358 , -0.6075358 , -0.6075358 ]],\n",
       "      dtype=float32)"
      ]
     },
     "execution_count": 50,
     "metadata": {},
     "output_type": "execute_result"
    }
   ],
   "source": [
    "X_test"
   ]
  },
  {
   "cell_type": "code",
   "execution_count": 49,
   "id": "7f616ace",
   "metadata": {},
   "outputs": [
    {
     "ename": "ValueError",
     "evalue": "in user code:\n\n    File \"/Users/alattar/opt/anaconda3/envs/EEE/lib/python3.9/site-packages/keras/engine/training.py\", line 2041, in predict_function  *\n        return step_function(self, iterator)\n    File \"/Users/alattar/opt/anaconda3/envs/EEE/lib/python3.9/site-packages/keras/engine/training.py\", line 2027, in step_function  **\n        outputs = model.distribute_strategy.run(run_step, args=(data,))\n    File \"/Users/alattar/opt/anaconda3/envs/EEE/lib/python3.9/site-packages/keras/engine/training.py\", line 2015, in run_step  **\n        outputs = model.predict_step(data)\n    File \"/Users/alattar/opt/anaconda3/envs/EEE/lib/python3.9/site-packages/keras/engine/training.py\", line 1983, in predict_step\n        return self(x, training=False)\n    File \"/Users/alattar/opt/anaconda3/envs/EEE/lib/python3.9/site-packages/keras/utils/traceback_utils.py\", line 70, in error_handler\n        raise e.with_traceback(filtered_tb) from None\n    File \"/Users/alattar/opt/anaconda3/envs/EEE/lib/python3.9/site-packages/keras/engine/input_spec.py\", line 295, in assert_input_compatibility\n        raise ValueError(\n\n    ValueError: Input 0 of layer \"sequential_1\" is incompatible with the layer: expected shape=(None, 6), found shape=(None, 4)\n",
     "output_type": "error",
     "traceback": [
      "\u001b[0;31m---------------------------------------------------------------------------\u001b[0m",
      "\u001b[0;31mValueError\u001b[0m                                Traceback (most recent call last)",
      "Input \u001b[0;32mIn [49]\u001b[0m, in \u001b[0;36m<cell line: 1>\u001b[0;34m()\u001b[0m\n\u001b[0;32m----> 1\u001b[0m y_test_pre \u001b[38;5;241m=\u001b[39m \u001b[43mmodel\u001b[49m\u001b[38;5;241;43m.\u001b[39;49m\u001b[43mpredict\u001b[49m\u001b[43m(\u001b[49m\u001b[43mX_test\u001b[49m\u001b[43m)\u001b[49m\n",
      "File \u001b[0;32m~/opt/anaconda3/envs/EEE/lib/python3.9/site-packages/keras/utils/traceback_utils.py:70\u001b[0m, in \u001b[0;36mfilter_traceback.<locals>.error_handler\u001b[0;34m(*args, **kwargs)\u001b[0m\n\u001b[1;32m     67\u001b[0m     filtered_tb \u001b[38;5;241m=\u001b[39m _process_traceback_frames(e\u001b[38;5;241m.\u001b[39m__traceback__)\n\u001b[1;32m     68\u001b[0m     \u001b[38;5;66;03m# To get the full stack trace, call:\u001b[39;00m\n\u001b[1;32m     69\u001b[0m     \u001b[38;5;66;03m# `tf.debugging.disable_traceback_filtering()`\u001b[39;00m\n\u001b[0;32m---> 70\u001b[0m     \u001b[38;5;28;01mraise\u001b[39;00m e\u001b[38;5;241m.\u001b[39mwith_traceback(filtered_tb) \u001b[38;5;28;01mfrom\u001b[39;00m \u001b[38;5;28mNone\u001b[39m\n\u001b[1;32m     71\u001b[0m \u001b[38;5;28;01mfinally\u001b[39;00m:\n\u001b[1;32m     72\u001b[0m     \u001b[38;5;28;01mdel\u001b[39;00m filtered_tb\n",
      "File \u001b[0;32m/var/folders/sc/gw_3sg7j7ms80zkk_cntn_s40000gp/T/__autograph_generated_file536zl7ba.py:15\u001b[0m, in \u001b[0;36mouter_factory.<locals>.inner_factory.<locals>.tf__predict_function\u001b[0;34m(iterator)\u001b[0m\n\u001b[1;32m     13\u001b[0m \u001b[38;5;28;01mtry\u001b[39;00m:\n\u001b[1;32m     14\u001b[0m     do_return \u001b[38;5;241m=\u001b[39m \u001b[38;5;28;01mTrue\u001b[39;00m\n\u001b[0;32m---> 15\u001b[0m     retval_ \u001b[38;5;241m=\u001b[39m ag__\u001b[38;5;241m.\u001b[39mconverted_call(ag__\u001b[38;5;241m.\u001b[39mld(step_function), (ag__\u001b[38;5;241m.\u001b[39mld(\u001b[38;5;28mself\u001b[39m), ag__\u001b[38;5;241m.\u001b[39mld(iterator)), \u001b[38;5;28;01mNone\u001b[39;00m, fscope)\n\u001b[1;32m     16\u001b[0m \u001b[38;5;28;01mexcept\u001b[39;00m:\n\u001b[1;32m     17\u001b[0m     do_return \u001b[38;5;241m=\u001b[39m \u001b[38;5;28;01mFalse\u001b[39;00m\n",
      "\u001b[0;31mValueError\u001b[0m: in user code:\n\n    File \"/Users/alattar/opt/anaconda3/envs/EEE/lib/python3.9/site-packages/keras/engine/training.py\", line 2041, in predict_function  *\n        return step_function(self, iterator)\n    File \"/Users/alattar/opt/anaconda3/envs/EEE/lib/python3.9/site-packages/keras/engine/training.py\", line 2027, in step_function  **\n        outputs = model.distribute_strategy.run(run_step, args=(data,))\n    File \"/Users/alattar/opt/anaconda3/envs/EEE/lib/python3.9/site-packages/keras/engine/training.py\", line 2015, in run_step  **\n        outputs = model.predict_step(data)\n    File \"/Users/alattar/opt/anaconda3/envs/EEE/lib/python3.9/site-packages/keras/engine/training.py\", line 1983, in predict_step\n        return self(x, training=False)\n    File \"/Users/alattar/opt/anaconda3/envs/EEE/lib/python3.9/site-packages/keras/utils/traceback_utils.py\", line 70, in error_handler\n        raise e.with_traceback(filtered_tb) from None\n    File \"/Users/alattar/opt/anaconda3/envs/EEE/lib/python3.9/site-packages/keras/engine/input_spec.py\", line 295, in assert_input_compatibility\n        raise ValueError(\n\n    ValueError: Input 0 of layer \"sequential_1\" is incompatible with the layer: expected shape=(None, 6), found shape=(None, 4)\n"
     ]
    }
   ],
   "source": [
    "y_test_pre = model.predict(X_test)"
   ]
  },
  {
   "cell_type": "code",
   "execution_count": null,
   "id": "e9f17a5e",
   "metadata": {
    "scrolled": false
   },
   "outputs": [],
   "source": [
    "df_test = pd.DataFrame(y_test_xr[\"directIrradiance\"].stack(dim=[\"latitude\", \"longitude\"]),columns=[\"y_actual\"],index=X_test_xr[\"time\"])\n",
    "df_test[\"y_predict\"] = y_test_pre\n",
    "df_test"
   ]
  },
  {
   "cell_type": "code",
   "execution_count": 27,
   "id": "aac8b713",
   "metadata": {},
   "outputs": [
    {
     "ename": "NameError",
     "evalue": "name 'df_test' is not defined",
     "output_type": "error",
     "traceback": [
      "\u001b[0;31m---------------------------------------------------------------------------\u001b[0m",
      "\u001b[0;31mNameError\u001b[0m                                 Traceback (most recent call last)",
      "Input \u001b[0;32mIn [27]\u001b[0m, in \u001b[0;36m<cell line: 1>\u001b[0;34m()\u001b[0m\n\u001b[0;32m----> 1\u001b[0m \u001b[43mdf_test\u001b[49m[\u001b[38;5;241m50\u001b[39m:\u001b[38;5;241m100\u001b[39m]\n",
      "\u001b[0;31mNameError\u001b[0m: name 'df_test' is not defined"
     ]
    }
   ],
   "source": [
    "df_test[50:100]"
   ]
  },
  {
   "cell_type": "code",
   "execution_count": null,
   "id": "5973823c",
   "metadata": {},
   "outputs": [],
   "source": []
  }
 ],
 "metadata": {
  "kernelspec": {
   "display_name": "Python 3 (ipykernel)",
   "language": "python",
   "name": "python3"
  },
  "language_info": {
   "codemirror_mode": {
    "name": "ipython",
    "version": 3
   },
   "file_extension": ".py",
   "mimetype": "text/x-python",
   "name": "python",
   "nbconvert_exporter": "python",
   "pygments_lexer": "ipython3",
   "version": "3.9.13"
  }
 },
 "nbformat": 4,
 "nbformat_minor": 5
}
