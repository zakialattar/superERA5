{
 "cells": [
  {
   "cell_type": "code",
   "execution_count": 1,
   "id": "c0dae7d5",
   "metadata": {},
   "outputs": [
    {
     "name": "stderr",
     "output_type": "stream",
     "text": [
      "2022-12-05 16:46:46.072349: I tensorflow/core/platform/cpu_feature_guard.cc:193] This TensorFlow binary is optimized with oneAPI Deep Neural Network Library (oneDNN) to use the following CPU instructions in performance-critical operations:  SSE4.1 SSE4.2\n",
      "To enable them in other operations, rebuild TensorFlow with the appropriate compiler flags.\n"
     ]
    }
   ],
   "source": [
    "import pandas as pd\n",
    "import numpy as np\n",
    "from numpy import genfromtxt\n",
    "import matplotlib.pyplot as plt\n",
    "from utils import * \n",
    "import xarray\n",
    "\n",
    "import tensorflow as tf\n",
    "from tensorflow import keras\n",
    "from tensorflow.keras.models import Model, load_model\n",
    "from tensorflow.keras.layers import *\n",
    "from tensorflow.keras import Sequential"
   ]
  },
  {
   "cell_type": "markdown",
   "id": "1ef1fb96",
   "metadata": {},
   "source": [
    "<h2>Prepare Training and Test Sets</h2>"
   ]
  },
  {
   "cell_type": "code",
   "execution_count": 2,
   "id": "51aa2723",
   "metadata": {
    "scrolled": false
   },
   "outputs": [
    {
     "name": "stdout",
     "output_type": "stream",
     "text": [
      "(11191, 1) (11191, 1) (11191, 1) (11191, 1)\n"
     ]
    }
   ],
   "source": [
    "## Define paths to training and test data\n",
    "cwd = os.getcwd()\n",
    "train_path = \"data/train/\"\n",
    "test_path = \"data/test/\"\n",
    "\n",
    "# Training set\n",
    "train_files    = [\"mantua_pt\"]\n",
    "X_train_xr, _  = prepare_predictor(train_files,train_path)\n",
    "y_train_xr, _  = prepare_predictand(train_files,train_path)\n",
    "\n",
    "# Test set\n",
    "X_test_xr, _ = prepare_predictor('water_pt', data_path=test_path,time_reindex=False)\n",
    "y_test_xr, _ = prepare_predictand('water_pt',data_path=test_path,time_reindex=False)\n",
    "\n",
    "## Convert to numpy arrays and check to make sure shapes of each dataset match\n",
    "X_train = X_train_xr[\"ssrd\"].stack(dim=[\"latitude\", \"longitude\"]).to_numpy()\n",
    "X_train = np.where(np.isnan(X_train), 0, X_train)\n",
    "\n",
    "X_test = X_test_xr[\"ssrd\"].stack(dim=[\"latitude\", \"longitude\"]).to_numpy()\n",
    "X_test = np.where(np.isnan(X_test), 0, X_test)\n",
    "\n",
    "y_train = y_train_xr[\"poa\"].stack(dim=[\"latitude\", \"longitude\"]).to_numpy()\n",
    "y_train = np.where(np.isnan(y_train), 0, y_train)\n",
    "\n",
    "y_test = y_test_xr[\"poa\"].stack(dim=[\"latitude\", \"longitude\"]).to_numpy()\n",
    "y_test = np.where(np.isnan(y_test), 0, y_test)\n",
    "\n",
    "print(X_train.shape, y_train.shape, X_test.shape, y_test.shape)\n"
   ]
  },
  {
   "cell_type": "code",
   "execution_count": 3,
   "id": "387da929",
   "metadata": {
    "scrolled": false
   },
   "outputs": [
    {
     "name": "stdout",
     "output_type": "stream",
     "text": [
      "(11191, 1) (11191, 1)\n",
      "(11191, 1) (11191, 1)\n"
     ]
    }
   ],
   "source": [
    "x_mean, x_std = X_train.mean(), X_train.std()\n",
    "\n",
    "X_train_std = (X_train - x_mean) / x_std\n",
    "X_test_std = (X_test - x_mean) / x_std\n",
    "\n",
    "y_mean, y_std = y_train.mean(), y_train.std()\n",
    "y_train_std = (y_train - y_mean) / y_std\n",
    "y_test_std = (y_test - y_mean) / y_std\n",
    "\n",
    "print(X_train_std.shape,y_train_std.shape)\n",
    "print(X_test_std.shape,y_test_std.shape)\n"
   ]
  },
  {
   "cell_type": "code",
   "execution_count": 186,
   "id": "c45ed0f6",
   "metadata": {},
   "outputs": [
    {
     "name": "stdout",
     "output_type": "stream",
     "text": [
      "Model: \"sequential_36\"\n",
      "_________________________________________________________________\n",
      " Layer (type)                Output Shape              Param #   \n",
      "=================================================================\n",
      " dense_112 (Dense)           (None, 32)                64        \n",
      "                                                                 \n",
      " dense_113 (Dense)           (None, 32)                1056      \n",
      "                                                                 \n",
      " dense_114 (Dense)           (None, 1)                 33        \n",
      "                                                                 \n",
      "=================================================================\n",
      "Total params: 1,153\n",
      "Trainable params: 1,153\n",
      "Non-trainable params: 0\n",
      "_________________________________________________________________\n",
      "None\n",
      "\n",
      "Inital test eval on different site:\n",
      "350/350 [==============================] - 0s 423us/step - loss: 2.9027\n",
      "Epoch 1/40\n",
      "175/175 [==============================] - 0s 1ms/step - loss: -0.0271 - val_loss: -0.0678\n",
      "Epoch 2/40\n",
      "175/175 [==============================] - 0s 948us/step - loss: -0.0960 - val_loss: -0.0961\n",
      "Epoch 3/40\n",
      "175/175 [==============================] - 0s 944us/step - loss: -0.1253 - val_loss: -0.1288\n",
      "Epoch 4/40\n",
      "175/175 [==============================] - 0s 959us/step - loss: -0.1576 - val_loss: -0.1507\n",
      "Epoch 5/40\n",
      "175/175 [==============================] - 0s 964us/step - loss: -0.1955 - val_loss: -0.1985\n",
      "Epoch 6/40\n",
      "175/175 [==============================] - 0s 966us/step - loss: -0.2386 - val_loss: -0.2476\n",
      "Epoch 7/40\n",
      "175/175 [==============================] - 0s 952us/step - loss: -0.2879 - val_loss: -0.3003\n",
      "Epoch 8/40\n",
      "175/175 [==============================] - 0s 956us/step - loss: -0.3444 - val_loss: -0.3595\n",
      "Epoch 9/40\n",
      "175/175 [==============================] - 0s 945us/step - loss: -0.4102 - val_loss: -0.4304\n",
      "Epoch 10/40\n",
      "175/175 [==============================] - 0s 951us/step - loss: -0.4851 - val_loss: -0.5098\n",
      "Epoch 11/40\n",
      "175/175 [==============================] - 0s 948us/step - loss: -0.5709 - val_loss: -0.6076\n",
      "Epoch 12/40\n",
      "175/175 [==============================] - 0s 954us/step - loss: -0.6705 - val_loss: -0.7074\n",
      "Epoch 13/40\n",
      "175/175 [==============================] - 0s 947us/step - loss: -0.7844 - val_loss: -0.8356\n",
      "Epoch 14/40\n",
      "175/175 [==============================] - 0s 952us/step - loss: -0.9156 - val_loss: -0.9754\n",
      "Epoch 15/40\n",
      "175/175 [==============================] - 0s 955us/step - loss: -1.0673 - val_loss: -1.1364\n",
      "Epoch 16/40\n",
      "175/175 [==============================] - 0s 948us/step - loss: -1.2415 - val_loss: -1.3173\n",
      "Epoch 17/40\n",
      "175/175 [==============================] - 0s 960us/step - loss: -1.4404 - val_loss: -1.5415\n",
      "Epoch 18/40\n",
      "175/175 [==============================] - 0s 962us/step - loss: -1.6727 - val_loss: -1.7874\n",
      "Epoch 19/40\n",
      "175/175 [==============================] - 0s 959us/step - loss: -1.9377 - val_loss: -2.0689\n",
      "Epoch 20/40\n",
      "175/175 [==============================] - 0s 954us/step - loss: -2.2425 - val_loss: -2.3985\n",
      "Epoch 21/40\n",
      "175/175 [==============================] - 0s 952us/step - loss: -2.5935 - val_loss: -2.7745\n",
      "Epoch 22/40\n",
      "175/175 [==============================] - 0s 961us/step - loss: -2.9965 - val_loss: -3.2092\n",
      "Epoch 23/40\n",
      "175/175 [==============================] - 0s 962us/step - loss: -3.4597 - val_loss: -3.7046\n",
      "Epoch 24/40\n",
      "175/175 [==============================] - 0s 949us/step - loss: -3.9939 - val_loss: -4.2771\n",
      "Epoch 25/40\n",
      "175/175 [==============================] - 0s 954us/step - loss: -4.6074 - val_loss: -4.9037\n",
      "Epoch 26/40\n",
      "175/175 [==============================] - 0s 944us/step - loss: -5.3120 - val_loss: -5.6752\n",
      "Epoch 27/40\n",
      "175/175 [==============================] - 0s 951us/step - loss: -6.1255 - val_loss: -6.5626\n",
      "Epoch 28/40\n",
      "175/175 [==============================] - 0s 961us/step - loss: -7.0592 - val_loss: -7.5658\n",
      "Epoch 29/40\n",
      "175/175 [==============================] - 0s 956us/step - loss: -8.1334 - val_loss: -8.7177\n",
      "Epoch 30/40\n",
      "175/175 [==============================] - 0s 970us/step - loss: -9.3699 - val_loss: -10.0364\n",
      "Epoch 31/40\n",
      "175/175 [==============================] - 0s 960us/step - loss: -10.7896 - val_loss: -11.5602\n",
      "Epoch 32/40\n",
      "175/175 [==============================] - 0s 964us/step - loss: -12.4227 - val_loss: -13.3146\n",
      "Epoch 33/40\n",
      "175/175 [==============================] - 0s 956us/step - loss: -14.3056 - val_loss: -15.3366\n",
      "Epoch 34/40\n",
      "175/175 [==============================] - 0s 956us/step - loss: -16.4702 - val_loss: -17.6532\n",
      "Epoch 35/40\n",
      "175/175 [==============================] - 0s 952us/step - loss: -18.9579 - val_loss: -20.3227\n",
      "Epoch 36/40\n",
      "175/175 [==============================] - 0s 948us/step - loss: -21.8164 - val_loss: -23.3828\n",
      "Epoch 37/40\n",
      "175/175 [==============================] - 0s 947us/step - loss: -25.1086 - val_loss: -26.9110\n",
      "Epoch 38/40\n",
      "175/175 [==============================] - 0s 952us/step - loss: -28.8931 - val_loss: -30.9765\n",
      "Epoch 39/40\n",
      "175/175 [==============================] - 0s 951us/step - loss: -33.2445 - val_loss: -35.6513\n",
      "Epoch 40/40\n",
      "175/175 [==============================] - 0s 950us/step - loss: -38.2505 - val_loss: -41.0062\n",
      "\n",
      "Final test eval on different site:\n",
      "350/350 [==============================] - 0s 424us/step - loss: -40.9689\n"
     ]
    },
    {
     "data": {
      "text/plain": [
       "-40.96894454956055"
      ]
     },
     "execution_count": 186,
     "metadata": {},
     "output_type": "execute_result"
    }
   ],
   "source": [
    "# set hyperparameters\n",
    "n_neuron       = 32\n",
    "activation     = 'relu'\n",
    "num_epochs     = 40\n",
    "learning_rate  = 0.04\n",
    "minibatch_size = 32\n",
    "model_num      = 1\n",
    "\n",
    "#create the model\n",
    "model = Sequential([\n",
    "      keras.layers.Dense(n_neuron, activation=activation, input_shape=(X_train.shape[1],)),\n",
    "      keras.layers.Dense(n_neuron, activation=\"linear\", kernel_regularizer=keras.regularizers.l2(l2=-0.005)),\n",
    "      keras.layers.Dense(y_train.shape[1],  activation='linear')\n",
    "])\n",
    "\n",
    "model.compile(loss='mse',optimizer=tf.keras.optimizers.SGD(learning_rate=learning_rate))\n",
    "\n",
    "print(model.summary())\n",
    "\n",
    "early_stop = keras.callbacks.EarlyStopping(monitor='val_loss', patience=10)\n",
    "print('\\nInital test eval on different site:')\n",
    "model.evaluate(X_test_std, y_test_std)\n",
    "\n",
    "history = model.fit(X_train_std, y_train_std, \n",
    "                    batch_size      = minibatch_size,\n",
    "                    epochs          = num_epochs,\n",
    "                    validation_split = 0.5,\n",
    "                    verbose         = 1,\n",
    "                    callbacks       = [early_stop])\n",
    "\n",
    "print('\\nFinal test eval on different site:')\n",
    "model.evaluate(X_test_std, y_test_std)\n"
   ]
  },
  {
   "cell_type": "code",
   "execution_count": 187,
   "id": "9c486f58",
   "metadata": {},
   "outputs": [
    {
     "data": {
      "image/png": "[encoded data removed]",
      "text/plain": [
       "<Figure size 640x480 with 1 Axes>"
      ]
     },
     "metadata": {},
     "output_type": "display_data"
    }
   ],
   "source": [
    "plot_history(history)"
   ]
  },
  {
   "cell_type": "code",
   "execution_count": 188,
   "id": "9b96815d",
   "metadata": {},
   "outputs": [
    {
     "name": "stdout",
     "output_type": "stream",
     "text": [
      "350/350 [==============================] - 0s 383us/step\n"
     ]
    },
    {
     "data": {
      "text/html": [
       "<div>\n",
       "<style scoped>\n",
       "    .dataframe tbody tr th:only-of-type {\n",
       "        vertical-align: middle;\n",
       "    }\n",
       "\n",
       "    .dataframe tbody tr th {\n",
       "        vertical-align: top;\n",
       "    }\n",
       "\n",
       "    .dataframe thead th {\n",
       "        text-align: right;\n",
       "    }\n",
       "</style>\n",
       "<table border=\"1\" class=\"dataframe\">\n",
       "  <thead>\n",
       "    <tr style=\"text-align: right;\">\n",
       "      <th></th>\n",
       "      <th>x_test</th>\n",
       "      <th>y_test_std</th>\n",
       "      <th>y_test_predict_std</th>\n",
       "      <th>y_test</th>\n",
       "      <th>y_test_predict</th>\n",
       "    </tr>\n",
       "  </thead>\n",
       "  <tbody>\n",
       "    <tr>\n",
       "      <th>0</th>\n",
       "      <td>825.044434</td>\n",
       "      <td>1.836252</td>\n",
       "      <td>2.583092</td>\n",
       "      <td>679.905000</td>\n",
       "      <td>880.840759</td>\n",
       "    </tr>\n",
       "    <tr>\n",
       "      <th>1</th>\n",
       "      <td>741.711121</td>\n",
       "      <td>0.910504</td>\n",
       "      <td>2.246926</td>\n",
       "      <td>430.834050</td>\n",
       "      <td>790.396057</td>\n",
       "    </tr>\n",
       "    <tr>\n",
       "      <th>2</th>\n",
       "      <td>229.211105</td>\n",
       "      <td>0.595311</td>\n",
       "      <td>0.117747</td>\n",
       "      <td>346.032058</td>\n",
       "      <td>217.544235</td>\n",
       "    </tr>\n",
       "    <tr>\n",
       "      <th>3</th>\n",
       "      <td>325.044434</td>\n",
       "      <td>0.061962</td>\n",
       "      <td>0.593896</td>\n",
       "      <td>202.535400</td>\n",
       "      <td>345.651306</td>\n",
       "    </tr>\n",
       "    <tr>\n",
       "      <th>4</th>\n",
       "      <td>491.711121</td>\n",
       "      <td>0.709347</td>\n",
       "      <td>1.251777</td>\n",
       "      <td>376.713250</td>\n",
       "      <td>522.652893</td>\n",
       "    </tr>\n",
       "    <tr>\n",
       "      <th>5</th>\n",
       "      <td>379.211121</td>\n",
       "      <td>0.079670</td>\n",
       "      <td>0.814257</td>\n",
       "      <td>207.299592</td>\n",
       "      <td>404.938995</td>\n",
       "    </tr>\n",
       "    <tr>\n",
       "      <th>6</th>\n",
       "      <td>158.377777</td>\n",
       "      <td>-0.491928</td>\n",
       "      <td>-0.096659</td>\n",
       "      <td>53.512333</td>\n",
       "      <td>159.858826</td>\n",
       "    </tr>\n",
       "    <tr>\n",
       "      <th>7</th>\n",
       "      <td>16.711111</td>\n",
       "      <td>-0.635713</td>\n",
       "      <td>-0.652498</td>\n",
       "      <td>14.827285</td>\n",
       "      <td>10.311142</td>\n",
       "    </tr>\n",
       "    <tr>\n",
       "      <th>8</th>\n",
       "      <td>0.044444</td>\n",
       "      <td>-0.661212</td>\n",
       "      <td>-0.721933</td>\n",
       "      <td>7.966870</td>\n",
       "      <td>-8.370209</td>\n",
       "    </tr>\n",
       "    <tr>\n",
       "      <th>9</th>\n",
       "      <td>0.044444</td>\n",
       "      <td>-0.661212</td>\n",
       "      <td>-0.721933</td>\n",
       "      <td>7.966870</td>\n",
       "      <td>-8.370209</td>\n",
       "    </tr>\n",
       "    <tr>\n",
       "      <th>10</th>\n",
       "      <td>0.044444</td>\n",
       "      <td>-0.661212</td>\n",
       "      <td>-0.721933</td>\n",
       "      <td>7.966870</td>\n",
       "      <td>-8.370209</td>\n",
       "    </tr>\n",
       "    <tr>\n",
       "      <th>11</th>\n",
       "      <td>0.044444</td>\n",
       "      <td>-0.661212</td>\n",
       "      <td>-0.721933</td>\n",
       "      <td>7.966870</td>\n",
       "      <td>-8.370209</td>\n",
       "    </tr>\n",
       "    <tr>\n",
       "      <th>12</th>\n",
       "      <td>0.044444</td>\n",
       "      <td>-0.661212</td>\n",
       "      <td>-0.721933</td>\n",
       "      <td>7.966870</td>\n",
       "      <td>-8.370209</td>\n",
       "    </tr>\n",
       "    <tr>\n",
       "      <th>13</th>\n",
       "      <td>0.044444</td>\n",
       "      <td>-0.661212</td>\n",
       "      <td>-0.721933</td>\n",
       "      <td>7.966870</td>\n",
       "      <td>-8.370209</td>\n",
       "    </tr>\n",
       "    <tr>\n",
       "      <th>14</th>\n",
       "      <td>0.044444</td>\n",
       "      <td>-0.661212</td>\n",
       "      <td>-0.721933</td>\n",
       "      <td>7.966870</td>\n",
       "      <td>-8.370209</td>\n",
       "    </tr>\n",
       "    <tr>\n",
       "      <th>15</th>\n",
       "      <td>0.044444</td>\n",
       "      <td>-0.661212</td>\n",
       "      <td>-0.721933</td>\n",
       "      <td>7.966870</td>\n",
       "      <td>-8.370209</td>\n",
       "    </tr>\n",
       "    <tr>\n",
       "      <th>16</th>\n",
       "      <td>0.044444</td>\n",
       "      <td>-0.661212</td>\n",
       "      <td>-0.721933</td>\n",
       "      <td>7.966870</td>\n",
       "      <td>-8.370209</td>\n",
       "    </tr>\n",
       "    <tr>\n",
       "      <th>17</th>\n",
       "      <td>0.044444</td>\n",
       "      <td>-0.661212</td>\n",
       "      <td>-0.721933</td>\n",
       "      <td>7.966870</td>\n",
       "      <td>-8.370209</td>\n",
       "    </tr>\n",
       "    <tr>\n",
       "      <th>18</th>\n",
       "      <td>29.211111</td>\n",
       "      <td>-0.580465</td>\n",
       "      <td>-0.600422</td>\n",
       "      <td>29.691495</td>\n",
       "      <td>24.322083</td>\n",
       "    </tr>\n",
       "    <tr>\n",
       "      <th>19</th>\n",
       "      <td>200.044449</td>\n",
       "      <td>0.078907</td>\n",
       "      <td>0.030920</td>\n",
       "      <td>207.094469</td>\n",
       "      <td>194.183472</td>\n",
       "    </tr>\n",
       "  </tbody>\n",
       "</table>\n",
       "</div>"
      ],
      "text/plain": [
       "        x_test  y_test_std  y_test_predict_std      y_test  y_test_predict\n",
       "0   825.044434    1.836252            2.583092  679.905000      880.840759\n",
       "1   741.711121    0.910504            2.246926  430.834050      790.396057\n",
       "2   229.211105    0.595311            0.117747  346.032058      217.544235\n",
       "3   325.044434    0.061962            0.593896  202.535400      345.651306\n",
       "4   491.711121    0.709347            1.251777  376.713250      522.652893\n",
       "5   379.211121    0.079670            0.814257  207.299592      404.938995\n",
       "6   158.377777   -0.491928           -0.096659   53.512333      159.858826\n",
       "7    16.711111   -0.635713           -0.652498   14.827285       10.311142\n",
       "8     0.044444   -0.661212           -0.721933    7.966870       -8.370209\n",
       "9     0.044444   -0.661212           -0.721933    7.966870       -8.370209\n",
       "10    0.044444   -0.661212           -0.721933    7.966870       -8.370209\n",
       "11    0.044444   -0.661212           -0.721933    7.966870       -8.370209\n",
       "12    0.044444   -0.661212           -0.721933    7.966870       -8.370209\n",
       "13    0.044444   -0.661212           -0.721933    7.966870       -8.370209\n",
       "14    0.044444   -0.661212           -0.721933    7.966870       -8.370209\n",
       "15    0.044444   -0.661212           -0.721933    7.966870       -8.370209\n",
       "16    0.044444   -0.661212           -0.721933    7.966870       -8.370209\n",
       "17    0.044444   -0.661212           -0.721933    7.966870       -8.370209\n",
       "18   29.211111   -0.580465           -0.600422   29.691495       24.322083\n",
       "19  200.044449    0.078907            0.030920  207.094469      194.183472"
      ]
     },
     "execution_count": 188,
     "metadata": {},
     "output_type": "execute_result"
    }
   ],
   "source": [
    "model_path = os.path.join(cwd,'saved_model')\n",
    "make_dir(model_path)\n",
    "\n",
    "# Save the entire model to a HDF5 file.\n",
    "# The '.h5' extension indicates that the model should be saved to HDF5.\n",
    "model.save(os.path.join(model_path,'NN_model.h5'))\n",
    "\n",
    "# reload the saved model\n",
    "model = load_model(os.path.join(model_path,'NN_model.h5'))\n",
    "\n",
    "\n",
    "#y_Test \n",
    "y_test_predict = model.predict(X_test_std)\n",
    "\n",
    "df_test = pd.DataFrame()\n",
    "df_test[\"x_test\"] = X_test[:, 0]/3600\n",
    "df_test[\"y_test_std\"] = y_test_std[:, 0]\n",
    "df_test[\"y_test_predict_std\"] = y_test_predict\n",
    "df_test[\"y_test\"] = y_test[:, 0]\n",
    "df_test[\"y_test_predict\"] = y_test_predict * y_std + y_mean\n",
    "\n",
    "df_plot = df_test[0:100]\n",
    "df_plot.head(20)"
   ]
  },
  {
   "cell_type": "code",
   "execution_count": 193,
   "id": "7afc3703",
   "metadata": {},
   "outputs": [
    {
     "data": {
      "text/plain": [
       "Text(0, 0.5, 'y')"
      ]
     },
     "execution_count": 193,
     "metadata": {},
     "output_type": "execute_result"
    },
    {
     "data": {
      "image/png": "[encoded data removed]",
      "text/plain": [
       "<Figure size 640x480 with 1 Axes>"
      ]
     },
     "metadata": {},
     "output_type": "display_data"
    }
   ],
   "source": [
    "df_plot = df_test[100:200]\n",
    "plt.plot(df_plot.x_test,label=\"era5\")\n",
    "plt.plot(df_plot.y_test,label=\"y_actual\")\n",
    "plt.plot(df_plot.y_test_predict,label=\"y_predicted\")\n",
    "plt.xlabel(\"time\")\n",
    "plt.legend()\n",
    "plt.ylabel(\"y\")"
   ]
  },
  {
   "cell_type": "code",
   "execution_count": null,
   "id": "3718a835",
   "metadata": {},
   "outputs": [],
   "source": [
    "# plt.scatter(x=df_plot.y_test,y=df_plot.y_test_predict)\n",
    "p1 = max(max(df_plot.y_test_predict), max(df_plot.y_test))\n",
    "p2 = min(min(df_plot.y_test_predict), min(df_plot.y_test))\n",
    "plt.plot([p1, p2], [p1, p2], 'b-')\n",
    "plt.ylabel(\"Predicted\")\n",
    "plt.xlabel(\"Actual\")\n",
    "plt.show()\n"
   ]
  },
  {
   "cell_type": "code",
   "execution_count": 122,
   "id": "2defcd5a",
   "metadata": {},
   "outputs": [
    {
     "ename": "AttributeError",
     "evalue": "'DataFrame' object has no attribute 'y_actual'",
     "output_type": "error",
     "traceback": [
      "\u001b[0;31m---------------------------------------------------------------------------\u001b[0m",
      "\u001b[0;31mAttributeError\u001b[0m                            Traceback (most recent call last)",
      "Input \u001b[0;32mIn [122]\u001b[0m, in \u001b[0;36m<cell line: 3>\u001b[0;34m()\u001b[0m\n\u001b[1;32m      1\u001b[0m plt\u001b[38;5;241m.\u001b[39mfigure(figsize\u001b[38;5;241m=\u001b[39m(\u001b[38;5;241m10\u001b[39m,\u001b[38;5;241m4\u001b[39m))\n\u001b[1;32m      2\u001b[0m df_plot \u001b[38;5;241m=\u001b[39m df_test[\u001b[38;5;241m0\u001b[39m:\u001b[38;5;241m200\u001b[39m]\n\u001b[0;32m----> 3\u001b[0m plt\u001b[38;5;241m.\u001b[39mplot(\u001b[43mdf_plot\u001b[49m\u001b[38;5;241;43m.\u001b[39;49m\u001b[43my_actual\u001b[49m,label\u001b[38;5;241m=\u001b[39m\u001b[38;5;124m\"\u001b[39m\u001b[38;5;124mactual\u001b[39m\u001b[38;5;124m\"\u001b[39m)\n\u001b[1;32m      4\u001b[0m plt\u001b[38;5;241m.\u001b[39mplot(df_plot\u001b[38;5;241m.\u001b[39my_predict,label\u001b[38;5;241m=\u001b[39m\u001b[38;5;124m\"\u001b[39m\u001b[38;5;124mpredict\u001b[39m\u001b[38;5;124m\"\u001b[39m)\n\u001b[1;32m      5\u001b[0m plt\u001b[38;5;241m.\u001b[39mlegend()\n",
      "File \u001b[0;32m~/opt/anaconda3/envs/EEE/lib/python3.9/site-packages/pandas/core/generic.py:5902\u001b[0m, in \u001b[0;36mNDFrame.__getattr__\u001b[0;34m(self, name)\u001b[0m\n\u001b[1;32m   5895\u001b[0m \u001b[38;5;28;01mif\u001b[39;00m (\n\u001b[1;32m   5896\u001b[0m     name \u001b[38;5;129;01mnot\u001b[39;00m \u001b[38;5;129;01min\u001b[39;00m \u001b[38;5;28mself\u001b[39m\u001b[38;5;241m.\u001b[39m_internal_names_set\n\u001b[1;32m   5897\u001b[0m     \u001b[38;5;129;01mand\u001b[39;00m name \u001b[38;5;129;01mnot\u001b[39;00m \u001b[38;5;129;01min\u001b[39;00m \u001b[38;5;28mself\u001b[39m\u001b[38;5;241m.\u001b[39m_metadata\n\u001b[1;32m   5898\u001b[0m     \u001b[38;5;129;01mand\u001b[39;00m name \u001b[38;5;129;01mnot\u001b[39;00m \u001b[38;5;129;01min\u001b[39;00m \u001b[38;5;28mself\u001b[39m\u001b[38;5;241m.\u001b[39m_accessors\n\u001b[1;32m   5899\u001b[0m     \u001b[38;5;129;01mand\u001b[39;00m \u001b[38;5;28mself\u001b[39m\u001b[38;5;241m.\u001b[39m_info_axis\u001b[38;5;241m.\u001b[39m_can_hold_identifiers_and_holds_name(name)\n\u001b[1;32m   5900\u001b[0m ):\n\u001b[1;32m   5901\u001b[0m     \u001b[38;5;28;01mreturn\u001b[39;00m \u001b[38;5;28mself\u001b[39m[name]\n\u001b[0;32m-> 5902\u001b[0m \u001b[38;5;28;01mreturn\u001b[39;00m \u001b[38;5;28;43mobject\u001b[39;49m\u001b[38;5;241;43m.\u001b[39;49m\u001b[38;5;21;43m__getattribute__\u001b[39;49m\u001b[43m(\u001b[49m\u001b[38;5;28;43mself\u001b[39;49m\u001b[43m,\u001b[49m\u001b[43m \u001b[49m\u001b[43mname\u001b[49m\u001b[43m)\u001b[49m\n",
      "\u001b[0;31mAttributeError\u001b[0m: 'DataFrame' object has no attribute 'y_actual'"
     ]
    },
    {
     "data": {
      "text/plain": [
       "<Figure size 1000x400 with 0 Axes>"
      ]
     },
     "metadata": {},
     "output_type": "display_data"
    }
   ],
   "source": [
    "plt.figure(figsize=(10,4))\n",
    "df_plot = df_test[0:200]\n",
    "plt.plot(df_plot.y_actual,label=\"actual\")\n",
    "plt.plot(df_plot.y_predict,label=\"predict\")\n",
    "plt.legend()"
   ]
  },
  {
   "cell_type": "code",
   "execution_count": null,
   "id": "aa8b8658",
   "metadata": {},
   "outputs": [],
   "source": []
  }
 ],
 "metadata": {
  "kernelspec": {
   "display_name": "Python 3 (ipykernel)",
   "language": "python",
   "name": "python3"
  },
  "language_info": {
   "codemirror_mode": {
    "name": "ipython",
    "version": 3
   },
   "file_extension": ".py",
   "mimetype": "text/x-python",
   "name": "python",
   "nbconvert_exporter": "python",
   "pygments_lexer": "ipython3",
   "version": "3.9.13"
  }
 },
 "nbformat": 4,
 "nbformat_minor": 5
}
